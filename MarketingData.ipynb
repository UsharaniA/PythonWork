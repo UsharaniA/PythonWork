{
 "cells": [
  {
   "cell_type": "code",
   "execution_count": 215,
   "id": "76b654a8-eba4-4f8d-8c36-a01e2a2ff800",
   "metadata": {
    "editable": true,
    "slideshow": {
     "slide_type": ""
    },
    "tags": []
   },
   "outputs": [],
   "source": [
    "import pandas as pd\n",
    "import statistics\n",
    "import seaborn as sns\n",
    "import matplotlib.pyplot as plt\n",
    "import numpy as np\n",
    "import scipy.stats as stats\n",
    "from statsmodels.stats.weightstats import ztest"
   ]
  },
  {
   "cell_type": "code",
   "execution_count": 217,
   "id": "3d92127d-2cae-4afe-861f-6f62f4f1c97f",
   "metadata": {},
   "outputs": [],
   "source": [
    "df=pd.read_csv(\"C:/Users/Usharani/PythonWork/marketing_data.csv\")"
   ]
  },
  {
   "cell_type": "markdown",
   "id": "38f4b160-30d6-427d-9a05-09c57e359302",
   "metadata": {},
   "source": [
    "### Data Description"
   ]
  },
  {
   "cell_type": "code",
   "execution_count": 220,
   "id": "0e79411a-8c35-49cf-879c-b2b57b983129",
   "metadata": {},
   "outputs": [
    {
     "name": "stdout",
     "output_type": "stream",
     "text": [
      "<class 'pandas.core.frame.DataFrame'>\n",
      "RangeIndex: 2240 entries, 0 to 2239\n",
      "Data columns (total 28 columns):\n",
      " #   Column               Non-Null Count  Dtype \n",
      "---  ------               --------------  ----- \n",
      " 0   ID                   2240 non-null   int64 \n",
      " 1   Year_Birth           2240 non-null   int64 \n",
      " 2   Education            2240 non-null   object\n",
      " 3   Marital_Status       2240 non-null   object\n",
      " 4    Income              2216 non-null   object\n",
      " 5   Kidhome              2240 non-null   int64 \n",
      " 6   Teenhome             2240 non-null   int64 \n",
      " 7   Dt_Customer          2240 non-null   object\n",
      " 8   Recency              2240 non-null   int64 \n",
      " 9   MntWines             2240 non-null   int64 \n",
      " 10  MntFruits            2240 non-null   int64 \n",
      " 11  MntMeatProducts      2240 non-null   int64 \n",
      " 12  MntFishProducts      2240 non-null   int64 \n",
      " 13  MntSweetProducts     2240 non-null   int64 \n",
      " 14  MntGoldProds         2240 non-null   int64 \n",
      " 15  NumDealsPurchases    2240 non-null   int64 \n",
      " 16  NumWebPurchases      2240 non-null   int64 \n",
      " 17  NumCatalogPurchases  2240 non-null   int64 \n",
      " 18  NumStorePurchases    2240 non-null   int64 \n",
      " 19  NumWebVisitsMonth    2240 non-null   int64 \n",
      " 20  AcceptedCmp3         2240 non-null   int64 \n",
      " 21  AcceptedCmp4         2240 non-null   int64 \n",
      " 22  AcceptedCmp5         2240 non-null   int64 \n",
      " 23  AcceptedCmp1         2240 non-null   int64 \n",
      " 24  AcceptedCmp2         2240 non-null   int64 \n",
      " 25  Response             2240 non-null   int64 \n",
      " 26  Complain             2240 non-null   int64 \n",
      " 27  Country              2240 non-null   object\n",
      "dtypes: int64(23), object(5)\n",
      "memory usage: 490.1+ KB\n"
     ]
    }
   ],
   "source": [
    "df.info()"
   ]
  },
  {
   "cell_type": "code",
   "execution_count": 222,
   "id": "48373ee7-8722-4419-b875-b2a7287b7fda",
   "metadata": {},
   "outputs": [],
   "source": [
    "df.columns =df.columns.str.strip()"
   ]
  },
  {
   "cell_type": "code",
   "execution_count": 224,
   "id": "88b5f5f5-8822-47e4-864b-ab470967cad8",
   "metadata": {},
   "outputs": [
    {
     "name": "stdout",
     "output_type": "stream",
     "text": [
      "<class 'pandas.core.frame.DataFrame'>\n",
      "RangeIndex: 2240 entries, 0 to 2239\n",
      "Data columns (total 28 columns):\n",
      " #   Column               Non-Null Count  Dtype \n",
      "---  ------               --------------  ----- \n",
      " 0   ID                   2240 non-null   int64 \n",
      " 1   Year_Birth           2240 non-null   int64 \n",
      " 2   Education            2240 non-null   object\n",
      " 3   Marital_Status       2240 non-null   object\n",
      " 4   Income               2216 non-null   object\n",
      " 5   Kidhome              2240 non-null   int64 \n",
      " 6   Teenhome             2240 non-null   int64 \n",
      " 7   Dt_Customer          2240 non-null   object\n",
      " 8   Recency              2240 non-null   int64 \n",
      " 9   MntWines             2240 non-null   int64 \n",
      " 10  MntFruits            2240 non-null   int64 \n",
      " 11  MntMeatProducts      2240 non-null   int64 \n",
      " 12  MntFishProducts      2240 non-null   int64 \n",
      " 13  MntSweetProducts     2240 non-null   int64 \n",
      " 14  MntGoldProds         2240 non-null   int64 \n",
      " 15  NumDealsPurchases    2240 non-null   int64 \n",
      " 16  NumWebPurchases      2240 non-null   int64 \n",
      " 17  NumCatalogPurchases  2240 non-null   int64 \n",
      " 18  NumStorePurchases    2240 non-null   int64 \n",
      " 19  NumWebVisitsMonth    2240 non-null   int64 \n",
      " 20  AcceptedCmp3         2240 non-null   int64 \n",
      " 21  AcceptedCmp4         2240 non-null   int64 \n",
      " 22  AcceptedCmp5         2240 non-null   int64 \n",
      " 23  AcceptedCmp1         2240 non-null   int64 \n",
      " 24  AcceptedCmp2         2240 non-null   int64 \n",
      " 25  Response             2240 non-null   int64 \n",
      " 26  Complain             2240 non-null   int64 \n",
      " 27  Country              2240 non-null   object\n",
      "dtypes: int64(23), object(5)\n",
      "memory usage: 490.1+ KB\n"
     ]
    }
   ],
   "source": [
    "df.info()"
   ]
  },
  {
   "cell_type": "code",
   "execution_count": 226,
   "id": "892dfbd5-0604-4911-a5fe-38510b5ba7d2",
   "metadata": {},
   "outputs": [
    {
     "data": {
      "text/plain": [
       "(2240, 28)"
      ]
     },
     "execution_count": 226,
     "metadata": {},
     "output_type": "execute_result"
    }
   ],
   "source": [
    "df.shape"
   ]
  },
  {
   "cell_type": "code",
   "execution_count": 228,
   "id": "62888f5b-2a80-4b9f-b65d-7fc3a9161556",
   "metadata": {},
   "outputs": [
    {
     "data": {
      "text/html": [
       "<div>\n",
       "<style scoped>\n",
       "    .dataframe tbody tr th:only-of-type {\n",
       "        vertical-align: middle;\n",
       "    }\n",
       "\n",
       "    .dataframe tbody tr th {\n",
       "        vertical-align: top;\n",
       "    }\n",
       "\n",
       "    .dataframe thead th {\n",
       "        text-align: right;\n",
       "    }\n",
       "</style>\n",
       "<table border=\"1\" class=\"dataframe\">\n",
       "  <thead>\n",
       "    <tr style=\"text-align: right;\">\n",
       "      <th></th>\n",
       "      <th>ID</th>\n",
       "      <th>Year_Birth</th>\n",
       "      <th>Kidhome</th>\n",
       "      <th>Teenhome</th>\n",
       "      <th>Recency</th>\n",
       "      <th>MntWines</th>\n",
       "      <th>MntFruits</th>\n",
       "      <th>MntMeatProducts</th>\n",
       "      <th>MntFishProducts</th>\n",
       "      <th>MntSweetProducts</th>\n",
       "      <th>...</th>\n",
       "      <th>NumCatalogPurchases</th>\n",
       "      <th>NumStorePurchases</th>\n",
       "      <th>NumWebVisitsMonth</th>\n",
       "      <th>AcceptedCmp3</th>\n",
       "      <th>AcceptedCmp4</th>\n",
       "      <th>AcceptedCmp5</th>\n",
       "      <th>AcceptedCmp1</th>\n",
       "      <th>AcceptedCmp2</th>\n",
       "      <th>Response</th>\n",
       "      <th>Complain</th>\n",
       "    </tr>\n",
       "  </thead>\n",
       "  <tbody>\n",
       "    <tr>\n",
       "      <th>count</th>\n",
       "      <td>2240.000000</td>\n",
       "      <td>2240.000000</td>\n",
       "      <td>2240.000000</td>\n",
       "      <td>2240.000000</td>\n",
       "      <td>2240.000000</td>\n",
       "      <td>2240.000000</td>\n",
       "      <td>2240.000000</td>\n",
       "      <td>2240.000000</td>\n",
       "      <td>2240.000000</td>\n",
       "      <td>2240.000000</td>\n",
       "      <td>...</td>\n",
       "      <td>2240.000000</td>\n",
       "      <td>2240.000000</td>\n",
       "      <td>2240.000000</td>\n",
       "      <td>2240.000000</td>\n",
       "      <td>2240.000000</td>\n",
       "      <td>2240.000000</td>\n",
       "      <td>2240.000000</td>\n",
       "      <td>2240.000000</td>\n",
       "      <td>2240.000000</td>\n",
       "      <td>2240.000000</td>\n",
       "    </tr>\n",
       "    <tr>\n",
       "      <th>mean</th>\n",
       "      <td>5592.159821</td>\n",
       "      <td>1968.805804</td>\n",
       "      <td>0.444196</td>\n",
       "      <td>0.506250</td>\n",
       "      <td>49.109375</td>\n",
       "      <td>303.935714</td>\n",
       "      <td>26.302232</td>\n",
       "      <td>166.950000</td>\n",
       "      <td>37.525446</td>\n",
       "      <td>27.062946</td>\n",
       "      <td>...</td>\n",
       "      <td>2.662054</td>\n",
       "      <td>5.790179</td>\n",
       "      <td>5.316518</td>\n",
       "      <td>0.072768</td>\n",
       "      <td>0.074554</td>\n",
       "      <td>0.072768</td>\n",
       "      <td>0.064286</td>\n",
       "      <td>0.013393</td>\n",
       "      <td>0.149107</td>\n",
       "      <td>0.009375</td>\n",
       "    </tr>\n",
       "    <tr>\n",
       "      <th>std</th>\n",
       "      <td>3246.662198</td>\n",
       "      <td>11.984069</td>\n",
       "      <td>0.538398</td>\n",
       "      <td>0.544538</td>\n",
       "      <td>28.962453</td>\n",
       "      <td>336.597393</td>\n",
       "      <td>39.773434</td>\n",
       "      <td>225.715373</td>\n",
       "      <td>54.628979</td>\n",
       "      <td>41.280498</td>\n",
       "      <td>...</td>\n",
       "      <td>2.923101</td>\n",
       "      <td>3.250958</td>\n",
       "      <td>2.426645</td>\n",
       "      <td>0.259813</td>\n",
       "      <td>0.262728</td>\n",
       "      <td>0.259813</td>\n",
       "      <td>0.245316</td>\n",
       "      <td>0.114976</td>\n",
       "      <td>0.356274</td>\n",
       "      <td>0.096391</td>\n",
       "    </tr>\n",
       "    <tr>\n",
       "      <th>min</th>\n",
       "      <td>0.000000</td>\n",
       "      <td>1893.000000</td>\n",
       "      <td>0.000000</td>\n",
       "      <td>0.000000</td>\n",
       "      <td>0.000000</td>\n",
       "      <td>0.000000</td>\n",
       "      <td>0.000000</td>\n",
       "      <td>0.000000</td>\n",
       "      <td>0.000000</td>\n",
       "      <td>0.000000</td>\n",
       "      <td>...</td>\n",
       "      <td>0.000000</td>\n",
       "      <td>0.000000</td>\n",
       "      <td>0.000000</td>\n",
       "      <td>0.000000</td>\n",
       "      <td>0.000000</td>\n",
       "      <td>0.000000</td>\n",
       "      <td>0.000000</td>\n",
       "      <td>0.000000</td>\n",
       "      <td>0.000000</td>\n",
       "      <td>0.000000</td>\n",
       "    </tr>\n",
       "    <tr>\n",
       "      <th>25%</th>\n",
       "      <td>2828.250000</td>\n",
       "      <td>1959.000000</td>\n",
       "      <td>0.000000</td>\n",
       "      <td>0.000000</td>\n",
       "      <td>24.000000</td>\n",
       "      <td>23.750000</td>\n",
       "      <td>1.000000</td>\n",
       "      <td>16.000000</td>\n",
       "      <td>3.000000</td>\n",
       "      <td>1.000000</td>\n",
       "      <td>...</td>\n",
       "      <td>0.000000</td>\n",
       "      <td>3.000000</td>\n",
       "      <td>3.000000</td>\n",
       "      <td>0.000000</td>\n",
       "      <td>0.000000</td>\n",
       "      <td>0.000000</td>\n",
       "      <td>0.000000</td>\n",
       "      <td>0.000000</td>\n",
       "      <td>0.000000</td>\n",
       "      <td>0.000000</td>\n",
       "    </tr>\n",
       "    <tr>\n",
       "      <th>50%</th>\n",
       "      <td>5458.500000</td>\n",
       "      <td>1970.000000</td>\n",
       "      <td>0.000000</td>\n",
       "      <td>0.000000</td>\n",
       "      <td>49.000000</td>\n",
       "      <td>173.500000</td>\n",
       "      <td>8.000000</td>\n",
       "      <td>67.000000</td>\n",
       "      <td>12.000000</td>\n",
       "      <td>8.000000</td>\n",
       "      <td>...</td>\n",
       "      <td>2.000000</td>\n",
       "      <td>5.000000</td>\n",
       "      <td>6.000000</td>\n",
       "      <td>0.000000</td>\n",
       "      <td>0.000000</td>\n",
       "      <td>0.000000</td>\n",
       "      <td>0.000000</td>\n",
       "      <td>0.000000</td>\n",
       "      <td>0.000000</td>\n",
       "      <td>0.000000</td>\n",
       "    </tr>\n",
       "    <tr>\n",
       "      <th>75%</th>\n",
       "      <td>8427.750000</td>\n",
       "      <td>1977.000000</td>\n",
       "      <td>1.000000</td>\n",
       "      <td>1.000000</td>\n",
       "      <td>74.000000</td>\n",
       "      <td>504.250000</td>\n",
       "      <td>33.000000</td>\n",
       "      <td>232.000000</td>\n",
       "      <td>50.000000</td>\n",
       "      <td>33.000000</td>\n",
       "      <td>...</td>\n",
       "      <td>4.000000</td>\n",
       "      <td>8.000000</td>\n",
       "      <td>7.000000</td>\n",
       "      <td>0.000000</td>\n",
       "      <td>0.000000</td>\n",
       "      <td>0.000000</td>\n",
       "      <td>0.000000</td>\n",
       "      <td>0.000000</td>\n",
       "      <td>0.000000</td>\n",
       "      <td>0.000000</td>\n",
       "    </tr>\n",
       "    <tr>\n",
       "      <th>max</th>\n",
       "      <td>11191.000000</td>\n",
       "      <td>1996.000000</td>\n",
       "      <td>2.000000</td>\n",
       "      <td>2.000000</td>\n",
       "      <td>99.000000</td>\n",
       "      <td>1493.000000</td>\n",
       "      <td>199.000000</td>\n",
       "      <td>1725.000000</td>\n",
       "      <td>259.000000</td>\n",
       "      <td>263.000000</td>\n",
       "      <td>...</td>\n",
       "      <td>28.000000</td>\n",
       "      <td>13.000000</td>\n",
       "      <td>20.000000</td>\n",
       "      <td>1.000000</td>\n",
       "      <td>1.000000</td>\n",
       "      <td>1.000000</td>\n",
       "      <td>1.000000</td>\n",
       "      <td>1.000000</td>\n",
       "      <td>1.000000</td>\n",
       "      <td>1.000000</td>\n",
       "    </tr>\n",
       "  </tbody>\n",
       "</table>\n",
       "<p>8 rows × 23 columns</p>\n",
       "</div>"
      ],
      "text/plain": [
       "                 ID   Year_Birth      Kidhome     Teenhome      Recency  \\\n",
       "count   2240.000000  2240.000000  2240.000000  2240.000000  2240.000000   \n",
       "mean    5592.159821  1968.805804     0.444196     0.506250    49.109375   \n",
       "std     3246.662198    11.984069     0.538398     0.544538    28.962453   \n",
       "min        0.000000  1893.000000     0.000000     0.000000     0.000000   \n",
       "25%     2828.250000  1959.000000     0.000000     0.000000    24.000000   \n",
       "50%     5458.500000  1970.000000     0.000000     0.000000    49.000000   \n",
       "75%     8427.750000  1977.000000     1.000000     1.000000    74.000000   \n",
       "max    11191.000000  1996.000000     2.000000     2.000000    99.000000   \n",
       "\n",
       "          MntWines    MntFruits  MntMeatProducts  MntFishProducts  \\\n",
       "count  2240.000000  2240.000000      2240.000000      2240.000000   \n",
       "mean    303.935714    26.302232       166.950000        37.525446   \n",
       "std     336.597393    39.773434       225.715373        54.628979   \n",
       "min       0.000000     0.000000         0.000000         0.000000   \n",
       "25%      23.750000     1.000000        16.000000         3.000000   \n",
       "50%     173.500000     8.000000        67.000000        12.000000   \n",
       "75%     504.250000    33.000000       232.000000        50.000000   \n",
       "max    1493.000000   199.000000      1725.000000       259.000000   \n",
       "\n",
       "       MntSweetProducts  ...  NumCatalogPurchases  NumStorePurchases  \\\n",
       "count       2240.000000  ...          2240.000000        2240.000000   \n",
       "mean          27.062946  ...             2.662054           5.790179   \n",
       "std           41.280498  ...             2.923101           3.250958   \n",
       "min            0.000000  ...             0.000000           0.000000   \n",
       "25%            1.000000  ...             0.000000           3.000000   \n",
       "50%            8.000000  ...             2.000000           5.000000   \n",
       "75%           33.000000  ...             4.000000           8.000000   \n",
       "max          263.000000  ...            28.000000          13.000000   \n",
       "\n",
       "       NumWebVisitsMonth  AcceptedCmp3  AcceptedCmp4  AcceptedCmp5  \\\n",
       "count        2240.000000   2240.000000   2240.000000   2240.000000   \n",
       "mean            5.316518      0.072768      0.074554      0.072768   \n",
       "std             2.426645      0.259813      0.262728      0.259813   \n",
       "min             0.000000      0.000000      0.000000      0.000000   \n",
       "25%             3.000000      0.000000      0.000000      0.000000   \n",
       "50%             6.000000      0.000000      0.000000      0.000000   \n",
       "75%             7.000000      0.000000      0.000000      0.000000   \n",
       "max            20.000000      1.000000      1.000000      1.000000   \n",
       "\n",
       "       AcceptedCmp1  AcceptedCmp2     Response     Complain  \n",
       "count   2240.000000   2240.000000  2240.000000  2240.000000  \n",
       "mean       0.064286      0.013393     0.149107     0.009375  \n",
       "std        0.245316      0.114976     0.356274     0.096391  \n",
       "min        0.000000      0.000000     0.000000     0.000000  \n",
       "25%        0.000000      0.000000     0.000000     0.000000  \n",
       "50%        0.000000      0.000000     0.000000     0.000000  \n",
       "75%        0.000000      0.000000     0.000000     0.000000  \n",
       "max        1.000000      1.000000     1.000000     1.000000  \n",
       "\n",
       "[8 rows x 23 columns]"
      ]
     },
     "execution_count": 228,
     "metadata": {},
     "output_type": "execute_result"
    }
   ],
   "source": [
    "df.describe()"
   ]
  },
  {
   "cell_type": "markdown",
   "id": "a5b075cc-d238-402a-9efb-0b370a55b175",
   "metadata": {},
   "source": [
    "### EDA\n",
    "1.null value replce\n",
    "2.Drop Duplicates\n",
    "3.Data Format\n",
    "4.Outlier handling\n",
    "5.Spell error\n",
    "6.junck characters"
   ]
  },
  {
   "cell_type": "code",
   "execution_count": 231,
   "id": "0a05b9fb-b2a2-4e5c-8b7d-c0a602fcc4a3",
   "metadata": {},
   "outputs": [
    {
     "data": {
      "text/html": [
       "<div>\n",
       "<style scoped>\n",
       "    .dataframe tbody tr th:only-of-type {\n",
       "        vertical-align: middle;\n",
       "    }\n",
       "\n",
       "    .dataframe tbody tr th {\n",
       "        vertical-align: top;\n",
       "    }\n",
       "\n",
       "    .dataframe thead th {\n",
       "        text-align: right;\n",
       "    }\n",
       "</style>\n",
       "<table border=\"1\" class=\"dataframe\">\n",
       "  <thead>\n",
       "    <tr style=\"text-align: right;\">\n",
       "      <th></th>\n",
       "      <th>ID</th>\n",
       "      <th>Year_Birth</th>\n",
       "      <th>Education</th>\n",
       "      <th>Marital_Status</th>\n",
       "      <th>Income</th>\n",
       "      <th>Kidhome</th>\n",
       "      <th>Teenhome</th>\n",
       "      <th>Dt_Customer</th>\n",
       "      <th>Recency</th>\n",
       "      <th>MntWines</th>\n",
       "      <th>...</th>\n",
       "      <th>NumStorePurchases</th>\n",
       "      <th>NumWebVisitsMonth</th>\n",
       "      <th>AcceptedCmp3</th>\n",
       "      <th>AcceptedCmp4</th>\n",
       "      <th>AcceptedCmp5</th>\n",
       "      <th>AcceptedCmp1</th>\n",
       "      <th>AcceptedCmp2</th>\n",
       "      <th>Response</th>\n",
       "      <th>Complain</th>\n",
       "      <th>Country</th>\n",
       "    </tr>\n",
       "  </thead>\n",
       "  <tbody>\n",
       "    <tr>\n",
       "      <th>0</th>\n",
       "      <td>1826</td>\n",
       "      <td>1970</td>\n",
       "      <td>Graduation</td>\n",
       "      <td>Divorced</td>\n",
       "      <td>$84,835.00</td>\n",
       "      <td>0</td>\n",
       "      <td>0</td>\n",
       "      <td>6/16/14</td>\n",
       "      <td>0</td>\n",
       "      <td>189</td>\n",
       "      <td>...</td>\n",
       "      <td>6</td>\n",
       "      <td>1</td>\n",
       "      <td>0</td>\n",
       "      <td>0</td>\n",
       "      <td>0</td>\n",
       "      <td>0</td>\n",
       "      <td>0</td>\n",
       "      <td>1</td>\n",
       "      <td>0</td>\n",
       "      <td>SP</td>\n",
       "    </tr>\n",
       "    <tr>\n",
       "      <th>1</th>\n",
       "      <td>1</td>\n",
       "      <td>1961</td>\n",
       "      <td>Graduation</td>\n",
       "      <td>Single</td>\n",
       "      <td>$57,091.00</td>\n",
       "      <td>0</td>\n",
       "      <td>0</td>\n",
       "      <td>6/15/14</td>\n",
       "      <td>0</td>\n",
       "      <td>464</td>\n",
       "      <td>...</td>\n",
       "      <td>7</td>\n",
       "      <td>5</td>\n",
       "      <td>0</td>\n",
       "      <td>0</td>\n",
       "      <td>0</td>\n",
       "      <td>0</td>\n",
       "      <td>1</td>\n",
       "      <td>1</td>\n",
       "      <td>0</td>\n",
       "      <td>CA</td>\n",
       "    </tr>\n",
       "    <tr>\n",
       "      <th>2</th>\n",
       "      <td>10476</td>\n",
       "      <td>1958</td>\n",
       "      <td>Graduation</td>\n",
       "      <td>Married</td>\n",
       "      <td>$67,267.00</td>\n",
       "      <td>0</td>\n",
       "      <td>1</td>\n",
       "      <td>5/13/14</td>\n",
       "      <td>0</td>\n",
       "      <td>134</td>\n",
       "      <td>...</td>\n",
       "      <td>5</td>\n",
       "      <td>2</td>\n",
       "      <td>0</td>\n",
       "      <td>0</td>\n",
       "      <td>0</td>\n",
       "      <td>0</td>\n",
       "      <td>0</td>\n",
       "      <td>0</td>\n",
       "      <td>0</td>\n",
       "      <td>US</td>\n",
       "    </tr>\n",
       "    <tr>\n",
       "      <th>3</th>\n",
       "      <td>1386</td>\n",
       "      <td>1967</td>\n",
       "      <td>Graduation</td>\n",
       "      <td>Together</td>\n",
       "      <td>$32,474.00</td>\n",
       "      <td>1</td>\n",
       "      <td>1</td>\n",
       "      <td>5/11/14</td>\n",
       "      <td>0</td>\n",
       "      <td>10</td>\n",
       "      <td>...</td>\n",
       "      <td>2</td>\n",
       "      <td>7</td>\n",
       "      <td>0</td>\n",
       "      <td>0</td>\n",
       "      <td>0</td>\n",
       "      <td>0</td>\n",
       "      <td>0</td>\n",
       "      <td>0</td>\n",
       "      <td>0</td>\n",
       "      <td>AUS</td>\n",
       "    </tr>\n",
       "    <tr>\n",
       "      <th>4</th>\n",
       "      <td>5371</td>\n",
       "      <td>1989</td>\n",
       "      <td>Graduation</td>\n",
       "      <td>Single</td>\n",
       "      <td>$21,474.00</td>\n",
       "      <td>1</td>\n",
       "      <td>0</td>\n",
       "      <td>4/8/14</td>\n",
       "      <td>0</td>\n",
       "      <td>6</td>\n",
       "      <td>...</td>\n",
       "      <td>2</td>\n",
       "      <td>7</td>\n",
       "      <td>1</td>\n",
       "      <td>0</td>\n",
       "      <td>0</td>\n",
       "      <td>0</td>\n",
       "      <td>0</td>\n",
       "      <td>1</td>\n",
       "      <td>0</td>\n",
       "      <td>SP</td>\n",
       "    </tr>\n",
       "    <tr>\n",
       "      <th>...</th>\n",
       "      <td>...</td>\n",
       "      <td>...</td>\n",
       "      <td>...</td>\n",
       "      <td>...</td>\n",
       "      <td>...</td>\n",
       "      <td>...</td>\n",
       "      <td>...</td>\n",
       "      <td>...</td>\n",
       "      <td>...</td>\n",
       "      <td>...</td>\n",
       "      <td>...</td>\n",
       "      <td>...</td>\n",
       "      <td>...</td>\n",
       "      <td>...</td>\n",
       "      <td>...</td>\n",
       "      <td>...</td>\n",
       "      <td>...</td>\n",
       "      <td>...</td>\n",
       "      <td>...</td>\n",
       "      <td>...</td>\n",
       "      <td>...</td>\n",
       "    </tr>\n",
       "    <tr>\n",
       "      <th>2235</th>\n",
       "      <td>10142</td>\n",
       "      <td>1976</td>\n",
       "      <td>PhD</td>\n",
       "      <td>Divorced</td>\n",
       "      <td>$66,476.00</td>\n",
       "      <td>0</td>\n",
       "      <td>1</td>\n",
       "      <td>3/7/13</td>\n",
       "      <td>99</td>\n",
       "      <td>372</td>\n",
       "      <td>...</td>\n",
       "      <td>11</td>\n",
       "      <td>4</td>\n",
       "      <td>0</td>\n",
       "      <td>0</td>\n",
       "      <td>0</td>\n",
       "      <td>0</td>\n",
       "      <td>0</td>\n",
       "      <td>0</td>\n",
       "      <td>0</td>\n",
       "      <td>US</td>\n",
       "    </tr>\n",
       "    <tr>\n",
       "      <th>2236</th>\n",
       "      <td>5263</td>\n",
       "      <td>1977</td>\n",
       "      <td>2n Cycle</td>\n",
       "      <td>Married</td>\n",
       "      <td>$31,056.00</td>\n",
       "      <td>1</td>\n",
       "      <td>0</td>\n",
       "      <td>1/22/13</td>\n",
       "      <td>99</td>\n",
       "      <td>5</td>\n",
       "      <td>...</td>\n",
       "      <td>3</td>\n",
       "      <td>8</td>\n",
       "      <td>0</td>\n",
       "      <td>0</td>\n",
       "      <td>0</td>\n",
       "      <td>0</td>\n",
       "      <td>0</td>\n",
       "      <td>0</td>\n",
       "      <td>0</td>\n",
       "      <td>SP</td>\n",
       "    </tr>\n",
       "    <tr>\n",
       "      <th>2237</th>\n",
       "      <td>22</td>\n",
       "      <td>1976</td>\n",
       "      <td>Graduation</td>\n",
       "      <td>Divorced</td>\n",
       "      <td>$46,310.00</td>\n",
       "      <td>1</td>\n",
       "      <td>0</td>\n",
       "      <td>12/3/12</td>\n",
       "      <td>99</td>\n",
       "      <td>185</td>\n",
       "      <td>...</td>\n",
       "      <td>5</td>\n",
       "      <td>8</td>\n",
       "      <td>0</td>\n",
       "      <td>0</td>\n",
       "      <td>0</td>\n",
       "      <td>0</td>\n",
       "      <td>0</td>\n",
       "      <td>0</td>\n",
       "      <td>0</td>\n",
       "      <td>SP</td>\n",
       "    </tr>\n",
       "    <tr>\n",
       "      <th>2238</th>\n",
       "      <td>528</td>\n",
       "      <td>1978</td>\n",
       "      <td>Graduation</td>\n",
       "      <td>Married</td>\n",
       "      <td>$65,819.00</td>\n",
       "      <td>0</td>\n",
       "      <td>0</td>\n",
       "      <td>11/29/12</td>\n",
       "      <td>99</td>\n",
       "      <td>267</td>\n",
       "      <td>...</td>\n",
       "      <td>10</td>\n",
       "      <td>3</td>\n",
       "      <td>0</td>\n",
       "      <td>0</td>\n",
       "      <td>0</td>\n",
       "      <td>0</td>\n",
       "      <td>0</td>\n",
       "      <td>0</td>\n",
       "      <td>0</td>\n",
       "      <td>IND</td>\n",
       "    </tr>\n",
       "    <tr>\n",
       "      <th>2239</th>\n",
       "      <td>4070</td>\n",
       "      <td>1969</td>\n",
       "      <td>PhD</td>\n",
       "      <td>Married</td>\n",
       "      <td>$94,871.00</td>\n",
       "      <td>0</td>\n",
       "      <td>2</td>\n",
       "      <td>9/1/12</td>\n",
       "      <td>99</td>\n",
       "      <td>169</td>\n",
       "      <td>...</td>\n",
       "      <td>4</td>\n",
       "      <td>7</td>\n",
       "      <td>0</td>\n",
       "      <td>1</td>\n",
       "      <td>1</td>\n",
       "      <td>0</td>\n",
       "      <td>0</td>\n",
       "      <td>1</td>\n",
       "      <td>0</td>\n",
       "      <td>CA</td>\n",
       "    </tr>\n",
       "  </tbody>\n",
       "</table>\n",
       "<p>2240 rows × 28 columns</p>\n",
       "</div>"
      ],
      "text/plain": [
       "         ID  Year_Birth   Education Marital_Status       Income  Kidhome  \\\n",
       "0      1826        1970  Graduation       Divorced  $84,835.00         0   \n",
       "1         1        1961  Graduation         Single  $57,091.00         0   \n",
       "2     10476        1958  Graduation        Married  $67,267.00         0   \n",
       "3      1386        1967  Graduation       Together  $32,474.00         1   \n",
       "4      5371        1989  Graduation         Single  $21,474.00         1   \n",
       "...     ...         ...         ...            ...          ...      ...   \n",
       "2235  10142        1976         PhD       Divorced  $66,476.00         0   \n",
       "2236   5263        1977    2n Cycle        Married  $31,056.00         1   \n",
       "2237     22        1976  Graduation       Divorced  $46,310.00         1   \n",
       "2238    528        1978  Graduation        Married  $65,819.00         0   \n",
       "2239   4070        1969         PhD        Married  $94,871.00         0   \n",
       "\n",
       "      Teenhome Dt_Customer  Recency  MntWines  ...  NumStorePurchases  \\\n",
       "0            0     6/16/14        0       189  ...                  6   \n",
       "1            0     6/15/14        0       464  ...                  7   \n",
       "2            1     5/13/14        0       134  ...                  5   \n",
       "3            1     5/11/14        0        10  ...                  2   \n",
       "4            0      4/8/14        0         6  ...                  2   \n",
       "...        ...         ...      ...       ...  ...                ...   \n",
       "2235         1      3/7/13       99       372  ...                 11   \n",
       "2236         0     1/22/13       99         5  ...                  3   \n",
       "2237         0     12/3/12       99       185  ...                  5   \n",
       "2238         0    11/29/12       99       267  ...                 10   \n",
       "2239         2      9/1/12       99       169  ...                  4   \n",
       "\n",
       "      NumWebVisitsMonth  AcceptedCmp3  AcceptedCmp4  AcceptedCmp5  \\\n",
       "0                     1             0             0             0   \n",
       "1                     5             0             0             0   \n",
       "2                     2             0             0             0   \n",
       "3                     7             0             0             0   \n",
       "4                     7             1             0             0   \n",
       "...                 ...           ...           ...           ...   \n",
       "2235                  4             0             0             0   \n",
       "2236                  8             0             0             0   \n",
       "2237                  8             0             0             0   \n",
       "2238                  3             0             0             0   \n",
       "2239                  7             0             1             1   \n",
       "\n",
       "      AcceptedCmp1  AcceptedCmp2  Response  Complain  Country  \n",
       "0                0             0         1         0       SP  \n",
       "1                0             1         1         0       CA  \n",
       "2                0             0         0         0       US  \n",
       "3                0             0         0         0      AUS  \n",
       "4                0             0         1         0       SP  \n",
       "...            ...           ...       ...       ...      ...  \n",
       "2235             0             0         0         0       US  \n",
       "2236             0             0         0         0       SP  \n",
       "2237             0             0         0         0       SP  \n",
       "2238             0             0         0         0      IND  \n",
       "2239             0             0         1         0       CA  \n",
       "\n",
       "[2240 rows x 28 columns]"
      ]
     },
     "execution_count": 231,
     "metadata": {},
     "output_type": "execute_result"
    }
   ],
   "source": [
    "df.drop_duplicates()"
   ]
  },
  {
   "cell_type": "code",
   "execution_count": 233,
   "id": "a6ee2404-6648-4dc0-b161-26a1c511a1af",
   "metadata": {},
   "outputs": [
    {
     "data": {
      "text/plain": [
       "ID                      0\n",
       "Year_Birth              0\n",
       "Education               0\n",
       "Marital_Status          0\n",
       "Income                 24\n",
       "Kidhome                 0\n",
       "Teenhome                0\n",
       "Dt_Customer             0\n",
       "Recency                 0\n",
       "MntWines                0\n",
       "MntFruits               0\n",
       "MntMeatProducts         0\n",
       "MntFishProducts         0\n",
       "MntSweetProducts        0\n",
       "MntGoldProds            0\n",
       "NumDealsPurchases       0\n",
       "NumWebPurchases         0\n",
       "NumCatalogPurchases     0\n",
       "NumStorePurchases       0\n",
       "NumWebVisitsMonth       0\n",
       "AcceptedCmp3            0\n",
       "AcceptedCmp4            0\n",
       "AcceptedCmp5            0\n",
       "AcceptedCmp1            0\n",
       "AcceptedCmp2            0\n",
       "Response                0\n",
       "Complain                0\n",
       "Country                 0\n",
       "dtype: int64"
      ]
     },
     "execution_count": 233,
     "metadata": {},
     "output_type": "execute_result"
    }
   ],
   "source": [
    "df.isnull().sum()"
   ]
  },
  {
   "cell_type": "code",
   "execution_count": 235,
   "id": "af95c01d-c481-4a35-befe-be8c050f1f9c",
   "metadata": {},
   "outputs": [],
   "source": [
    "df['Income'] = df['Income'].replace({',': '', r'\\$': ''}, regex=True)"
   ]
  },
  {
   "cell_type": "code",
   "execution_count": 237,
   "id": "0df609c5-aa4f-4750-9bae-1e6f837a170e",
   "metadata": {},
   "outputs": [
    {
     "data": {
      "text/html": [
       "<div>\n",
       "<style scoped>\n",
       "    .dataframe tbody tr th:only-of-type {\n",
       "        vertical-align: middle;\n",
       "    }\n",
       "\n",
       "    .dataframe tbody tr th {\n",
       "        vertical-align: top;\n",
       "    }\n",
       "\n",
       "    .dataframe thead th {\n",
       "        text-align: right;\n",
       "    }\n",
       "</style>\n",
       "<table border=\"1\" class=\"dataframe\">\n",
       "  <thead>\n",
       "    <tr style=\"text-align: right;\">\n",
       "      <th></th>\n",
       "      <th>ID</th>\n",
       "      <th>Year_Birth</th>\n",
       "      <th>Education</th>\n",
       "      <th>Marital_Status</th>\n",
       "      <th>Income</th>\n",
       "      <th>Kidhome</th>\n",
       "      <th>Teenhome</th>\n",
       "      <th>Dt_Customer</th>\n",
       "      <th>Recency</th>\n",
       "      <th>MntWines</th>\n",
       "      <th>...</th>\n",
       "      <th>NumStorePurchases</th>\n",
       "      <th>NumWebVisitsMonth</th>\n",
       "      <th>AcceptedCmp3</th>\n",
       "      <th>AcceptedCmp4</th>\n",
       "      <th>AcceptedCmp5</th>\n",
       "      <th>AcceptedCmp1</th>\n",
       "      <th>AcceptedCmp2</th>\n",
       "      <th>Response</th>\n",
       "      <th>Complain</th>\n",
       "      <th>Country</th>\n",
       "    </tr>\n",
       "  </thead>\n",
       "  <tbody>\n",
       "    <tr>\n",
       "      <th>0</th>\n",
       "      <td>1826</td>\n",
       "      <td>1970</td>\n",
       "      <td>Graduation</td>\n",
       "      <td>Divorced</td>\n",
       "      <td>84835.00</td>\n",
       "      <td>0</td>\n",
       "      <td>0</td>\n",
       "      <td>6/16/14</td>\n",
       "      <td>0</td>\n",
       "      <td>189</td>\n",
       "      <td>...</td>\n",
       "      <td>6</td>\n",
       "      <td>1</td>\n",
       "      <td>0</td>\n",
       "      <td>0</td>\n",
       "      <td>0</td>\n",
       "      <td>0</td>\n",
       "      <td>0</td>\n",
       "      <td>1</td>\n",
       "      <td>0</td>\n",
       "      <td>SP</td>\n",
       "    </tr>\n",
       "    <tr>\n",
       "      <th>1</th>\n",
       "      <td>1</td>\n",
       "      <td>1961</td>\n",
       "      <td>Graduation</td>\n",
       "      <td>Single</td>\n",
       "      <td>57091.00</td>\n",
       "      <td>0</td>\n",
       "      <td>0</td>\n",
       "      <td>6/15/14</td>\n",
       "      <td>0</td>\n",
       "      <td>464</td>\n",
       "      <td>...</td>\n",
       "      <td>7</td>\n",
       "      <td>5</td>\n",
       "      <td>0</td>\n",
       "      <td>0</td>\n",
       "      <td>0</td>\n",
       "      <td>0</td>\n",
       "      <td>1</td>\n",
       "      <td>1</td>\n",
       "      <td>0</td>\n",
       "      <td>CA</td>\n",
       "    </tr>\n",
       "    <tr>\n",
       "      <th>2</th>\n",
       "      <td>10476</td>\n",
       "      <td>1958</td>\n",
       "      <td>Graduation</td>\n",
       "      <td>Married</td>\n",
       "      <td>67267.00</td>\n",
       "      <td>0</td>\n",
       "      <td>1</td>\n",
       "      <td>5/13/14</td>\n",
       "      <td>0</td>\n",
       "      <td>134</td>\n",
       "      <td>...</td>\n",
       "      <td>5</td>\n",
       "      <td>2</td>\n",
       "      <td>0</td>\n",
       "      <td>0</td>\n",
       "      <td>0</td>\n",
       "      <td>0</td>\n",
       "      <td>0</td>\n",
       "      <td>0</td>\n",
       "      <td>0</td>\n",
       "      <td>US</td>\n",
       "    </tr>\n",
       "    <tr>\n",
       "      <th>3</th>\n",
       "      <td>1386</td>\n",
       "      <td>1967</td>\n",
       "      <td>Graduation</td>\n",
       "      <td>Together</td>\n",
       "      <td>32474.00</td>\n",
       "      <td>1</td>\n",
       "      <td>1</td>\n",
       "      <td>5/11/14</td>\n",
       "      <td>0</td>\n",
       "      <td>10</td>\n",
       "      <td>...</td>\n",
       "      <td>2</td>\n",
       "      <td>7</td>\n",
       "      <td>0</td>\n",
       "      <td>0</td>\n",
       "      <td>0</td>\n",
       "      <td>0</td>\n",
       "      <td>0</td>\n",
       "      <td>0</td>\n",
       "      <td>0</td>\n",
       "      <td>AUS</td>\n",
       "    </tr>\n",
       "    <tr>\n",
       "      <th>4</th>\n",
       "      <td>5371</td>\n",
       "      <td>1989</td>\n",
       "      <td>Graduation</td>\n",
       "      <td>Single</td>\n",
       "      <td>21474.00</td>\n",
       "      <td>1</td>\n",
       "      <td>0</td>\n",
       "      <td>4/8/14</td>\n",
       "      <td>0</td>\n",
       "      <td>6</td>\n",
       "      <td>...</td>\n",
       "      <td>2</td>\n",
       "      <td>7</td>\n",
       "      <td>1</td>\n",
       "      <td>0</td>\n",
       "      <td>0</td>\n",
       "      <td>0</td>\n",
       "      <td>0</td>\n",
       "      <td>1</td>\n",
       "      <td>0</td>\n",
       "      <td>SP</td>\n",
       "    </tr>\n",
       "  </tbody>\n",
       "</table>\n",
       "<p>5 rows × 28 columns</p>\n",
       "</div>"
      ],
      "text/plain": [
       "      ID  Year_Birth   Education Marital_Status     Income  Kidhome  Teenhome  \\\n",
       "0   1826        1970  Graduation       Divorced  84835.00         0         0   \n",
       "1      1        1961  Graduation         Single  57091.00         0         0   \n",
       "2  10476        1958  Graduation        Married  67267.00         0         1   \n",
       "3   1386        1967  Graduation       Together  32474.00         1         1   \n",
       "4   5371        1989  Graduation         Single  21474.00         1         0   \n",
       "\n",
       "  Dt_Customer  Recency  MntWines  ...  NumStorePurchases  NumWebVisitsMonth  \\\n",
       "0     6/16/14        0       189  ...                  6                  1   \n",
       "1     6/15/14        0       464  ...                  7                  5   \n",
       "2     5/13/14        0       134  ...                  5                  2   \n",
       "3     5/11/14        0        10  ...                  2                  7   \n",
       "4      4/8/14        0         6  ...                  2                  7   \n",
       "\n",
       "   AcceptedCmp3  AcceptedCmp4  AcceptedCmp5  AcceptedCmp1  AcceptedCmp2  \\\n",
       "0             0             0             0             0             0   \n",
       "1             0             0             0             0             1   \n",
       "2             0             0             0             0             0   \n",
       "3             0             0             0             0             0   \n",
       "4             1             0             0             0             0   \n",
       "\n",
       "   Response  Complain  Country  \n",
       "0         1         0       SP  \n",
       "1         1         0       CA  \n",
       "2         0         0       US  \n",
       "3         0         0      AUS  \n",
       "4         1         0       SP  \n",
       "\n",
       "[5 rows x 28 columns]"
      ]
     },
     "execution_count": 237,
     "metadata": {},
     "output_type": "execute_result"
    }
   ],
   "source": [
    "df.head()"
   ]
  },
  {
   "cell_type": "code",
   "execution_count": 239,
   "id": "f2235107-341a-4aaa-b95c-528df0fbad74",
   "metadata": {},
   "outputs": [],
   "source": [
    "df['Income'] = pd.to_numeric(df['Income'], errors='coerce')"
   ]
  },
  {
   "cell_type": "code",
   "execution_count": 241,
   "id": "7104fb76-8937-4a9b-bc4f-af7f07823806",
   "metadata": {},
   "outputs": [
    {
     "data": {
      "text/html": [
       "<div>\n",
       "<style scoped>\n",
       "    .dataframe tbody tr th:only-of-type {\n",
       "        vertical-align: middle;\n",
       "    }\n",
       "\n",
       "    .dataframe tbody tr th {\n",
       "        vertical-align: top;\n",
       "    }\n",
       "\n",
       "    .dataframe thead th {\n",
       "        text-align: right;\n",
       "    }\n",
       "</style>\n",
       "<table border=\"1\" class=\"dataframe\">\n",
       "  <thead>\n",
       "    <tr style=\"text-align: right;\">\n",
       "      <th></th>\n",
       "      <th>ID</th>\n",
       "      <th>Year_Birth</th>\n",
       "      <th>Education</th>\n",
       "      <th>Marital_Status</th>\n",
       "      <th>Income</th>\n",
       "      <th>Kidhome</th>\n",
       "      <th>Teenhome</th>\n",
       "      <th>Dt_Customer</th>\n",
       "      <th>Recency</th>\n",
       "      <th>MntWines</th>\n",
       "      <th>...</th>\n",
       "      <th>NumStorePurchases</th>\n",
       "      <th>NumWebVisitsMonth</th>\n",
       "      <th>AcceptedCmp3</th>\n",
       "      <th>AcceptedCmp4</th>\n",
       "      <th>AcceptedCmp5</th>\n",
       "      <th>AcceptedCmp1</th>\n",
       "      <th>AcceptedCmp2</th>\n",
       "      <th>Response</th>\n",
       "      <th>Complain</th>\n",
       "      <th>Country</th>\n",
       "    </tr>\n",
       "  </thead>\n",
       "  <tbody>\n",
       "    <tr>\n",
       "      <th>0</th>\n",
       "      <td>1826</td>\n",
       "      <td>1970</td>\n",
       "      <td>Graduation</td>\n",
       "      <td>Divorced</td>\n",
       "      <td>84835.0</td>\n",
       "      <td>0</td>\n",
       "      <td>0</td>\n",
       "      <td>6/16/14</td>\n",
       "      <td>0</td>\n",
       "      <td>189</td>\n",
       "      <td>...</td>\n",
       "      <td>6</td>\n",
       "      <td>1</td>\n",
       "      <td>0</td>\n",
       "      <td>0</td>\n",
       "      <td>0</td>\n",
       "      <td>0</td>\n",
       "      <td>0</td>\n",
       "      <td>1</td>\n",
       "      <td>0</td>\n",
       "      <td>SP</td>\n",
       "    </tr>\n",
       "    <tr>\n",
       "      <th>1</th>\n",
       "      <td>1</td>\n",
       "      <td>1961</td>\n",
       "      <td>Graduation</td>\n",
       "      <td>Single</td>\n",
       "      <td>57091.0</td>\n",
       "      <td>0</td>\n",
       "      <td>0</td>\n",
       "      <td>6/15/14</td>\n",
       "      <td>0</td>\n",
       "      <td>464</td>\n",
       "      <td>...</td>\n",
       "      <td>7</td>\n",
       "      <td>5</td>\n",
       "      <td>0</td>\n",
       "      <td>0</td>\n",
       "      <td>0</td>\n",
       "      <td>0</td>\n",
       "      <td>1</td>\n",
       "      <td>1</td>\n",
       "      <td>0</td>\n",
       "      <td>CA</td>\n",
       "    </tr>\n",
       "    <tr>\n",
       "      <th>2</th>\n",
       "      <td>10476</td>\n",
       "      <td>1958</td>\n",
       "      <td>Graduation</td>\n",
       "      <td>Married</td>\n",
       "      <td>67267.0</td>\n",
       "      <td>0</td>\n",
       "      <td>1</td>\n",
       "      <td>5/13/14</td>\n",
       "      <td>0</td>\n",
       "      <td>134</td>\n",
       "      <td>...</td>\n",
       "      <td>5</td>\n",
       "      <td>2</td>\n",
       "      <td>0</td>\n",
       "      <td>0</td>\n",
       "      <td>0</td>\n",
       "      <td>0</td>\n",
       "      <td>0</td>\n",
       "      <td>0</td>\n",
       "      <td>0</td>\n",
       "      <td>US</td>\n",
       "    </tr>\n",
       "    <tr>\n",
       "      <th>3</th>\n",
       "      <td>1386</td>\n",
       "      <td>1967</td>\n",
       "      <td>Graduation</td>\n",
       "      <td>Together</td>\n",
       "      <td>32474.0</td>\n",
       "      <td>1</td>\n",
       "      <td>1</td>\n",
       "      <td>5/11/14</td>\n",
       "      <td>0</td>\n",
       "      <td>10</td>\n",
       "      <td>...</td>\n",
       "      <td>2</td>\n",
       "      <td>7</td>\n",
       "      <td>0</td>\n",
       "      <td>0</td>\n",
       "      <td>0</td>\n",
       "      <td>0</td>\n",
       "      <td>0</td>\n",
       "      <td>0</td>\n",
       "      <td>0</td>\n",
       "      <td>AUS</td>\n",
       "    </tr>\n",
       "    <tr>\n",
       "      <th>4</th>\n",
       "      <td>5371</td>\n",
       "      <td>1989</td>\n",
       "      <td>Graduation</td>\n",
       "      <td>Single</td>\n",
       "      <td>21474.0</td>\n",
       "      <td>1</td>\n",
       "      <td>0</td>\n",
       "      <td>4/8/14</td>\n",
       "      <td>0</td>\n",
       "      <td>6</td>\n",
       "      <td>...</td>\n",
       "      <td>2</td>\n",
       "      <td>7</td>\n",
       "      <td>1</td>\n",
       "      <td>0</td>\n",
       "      <td>0</td>\n",
       "      <td>0</td>\n",
       "      <td>0</td>\n",
       "      <td>1</td>\n",
       "      <td>0</td>\n",
       "      <td>SP</td>\n",
       "    </tr>\n",
       "  </tbody>\n",
       "</table>\n",
       "<p>5 rows × 28 columns</p>\n",
       "</div>"
      ],
      "text/plain": [
       "      ID  Year_Birth   Education Marital_Status   Income  Kidhome  Teenhome  \\\n",
       "0   1826        1970  Graduation       Divorced  84835.0        0         0   \n",
       "1      1        1961  Graduation         Single  57091.0        0         0   \n",
       "2  10476        1958  Graduation        Married  67267.0        0         1   \n",
       "3   1386        1967  Graduation       Together  32474.0        1         1   \n",
       "4   5371        1989  Graduation         Single  21474.0        1         0   \n",
       "\n",
       "  Dt_Customer  Recency  MntWines  ...  NumStorePurchases  NumWebVisitsMonth  \\\n",
       "0     6/16/14        0       189  ...                  6                  1   \n",
       "1     6/15/14        0       464  ...                  7                  5   \n",
       "2     5/13/14        0       134  ...                  5                  2   \n",
       "3     5/11/14        0        10  ...                  2                  7   \n",
       "4      4/8/14        0         6  ...                  2                  7   \n",
       "\n",
       "   AcceptedCmp3  AcceptedCmp4  AcceptedCmp5  AcceptedCmp1  AcceptedCmp2  \\\n",
       "0             0             0             0             0             0   \n",
       "1             0             0             0             0             1   \n",
       "2             0             0             0             0             0   \n",
       "3             0             0             0             0             0   \n",
       "4             1             0             0             0             0   \n",
       "\n",
       "   Response  Complain  Country  \n",
       "0         1         0       SP  \n",
       "1         1         0       CA  \n",
       "2         0         0       US  \n",
       "3         0         0      AUS  \n",
       "4         1         0       SP  \n",
       "\n",
       "[5 rows x 28 columns]"
      ]
     },
     "execution_count": 241,
     "metadata": {},
     "output_type": "execute_result"
    }
   ],
   "source": [
    "df.head()"
   ]
  },
  {
   "cell_type": "code",
   "execution_count": 243,
   "id": "20d946a9-7ac5-4a16-875b-93d68d4012e4",
   "metadata": {},
   "outputs": [
    {
     "name": "stdout",
     "output_type": "stream",
     "text": [
      "Education Categories: ['Graduation' 'PhD' '2n Cycle' 'Master' 'Basic']\n"
     ]
    }
   ],
   "source": [
    "print(\"Education Categories:\", df['Education'].unique())"
   ]
  },
  {
   "cell_type": "code",
   "execution_count": 245,
   "id": "41958dcf-a9e7-4d5c-bf52-ed76ceb79e98",
   "metadata": {},
   "outputs": [
    {
     "name": "stdout",
     "output_type": "stream",
     "text": [
      "Marital_Status: ['Divorced' 'Single' 'Married' 'Together' 'Widow' 'YOLO' 'Alone' 'Absurd']\n"
     ]
    }
   ],
   "source": [
    "print(\"Marital_Status:\", df['Marital_Status'].unique())"
   ]
  },
  {
   "cell_type": "code",
   "execution_count": 247,
   "id": "4dc3a195-25ed-47c0-a136-aebf0e1db75a",
   "metadata": {},
   "outputs": [],
   "source": [
    "df['Education'] = df['Education'].str.strip().str.lower()\n",
    "df['Marital_Status'] = df['Marital_Status'].str.strip().str.lower()"
   ]
  },
  {
   "cell_type": "code",
   "execution_count": 249,
   "id": "3b7faebf-95de-4f9a-8cf0-e6e77489cb54",
   "metadata": {},
   "outputs": [
    {
     "data": {
      "text/plain": [
       "Education   Marital_Status\n",
       "2n cycle    divorced          49395.130435\n",
       "            married           46201.100000\n",
       "            single            53673.944444\n",
       "            together          44736.410714\n",
       "            widow             51392.200000\n",
       "basic       divorced           9548.000000\n",
       "            married           21960.500000\n",
       "            single            18238.666667\n",
       "            together          21240.071429\n",
       "            widow             22123.000000\n",
       "graduation  absurd            79244.000000\n",
       "            alone             34176.000000\n",
       "            divorced          54526.042017\n",
       "            married           50800.258741\n",
       "            single            51322.182927\n",
       "            together          55758.480702\n",
       "            widow             54976.657143\n",
       "master      absurd            65487.000000\n",
       "            alone             61331.000000\n",
       "            divorced          50331.945946\n",
       "            married           53286.028986\n",
       "            single            53530.560000\n",
       "            together          52109.009804\n",
       "            widow             58401.545455\n",
       "phd         alone             35860.000000\n",
       "            divorced          53096.615385\n",
       "            married           58138.031579\n",
       "            single            53314.614583\n",
       "            together          56041.422414\n",
       "            widow             60288.083333\n",
       "            yolo              48432.000000\n",
       "Name: Income, dtype: float64"
      ]
     },
     "execution_count": 249,
     "metadata": {},
     "output_type": "execute_result"
    }
   ],
   "source": [
    "df.groupby(['Education', 'Marital_Status'])['Income'].mean()"
   ]
  },
  {
   "cell_type": "code",
   "execution_count": 251,
   "id": "9c9ac5ca-99b9-4f01-ba9c-034575307dcf",
   "metadata": {},
   "outputs": [],
   "source": [
    "df['Total_Children'] = df['Kidhome'] + df['Teenhome']"
   ]
  },
  {
   "cell_type": "code",
   "execution_count": 253,
   "id": "ee7d92fd-3f33-4602-bbe3-1a191f5cd260",
   "metadata": {},
   "outputs": [
    {
     "data": {
      "text/plain": [
       "0       0\n",
       "1       0\n",
       "2       1\n",
       "3       2\n",
       "4       1\n",
       "       ..\n",
       "2235    1\n",
       "2236    1\n",
       "2237    1\n",
       "2238    0\n",
       "2239    2\n",
       "Name: Total_Children, Length: 2240, dtype: int64"
      ]
     },
     "execution_count": 253,
     "metadata": {},
     "output_type": "execute_result"
    }
   ],
   "source": [
    "df['Total_Children']"
   ]
  },
  {
   "cell_type": "code",
   "execution_count": 255,
   "id": "0f083516-93bb-4fca-a01c-b2fbc65d7022",
   "metadata": {},
   "outputs": [],
   "source": [
    "df['Age'] = 2025 - df['Year_Birth']"
   ]
  },
  {
   "cell_type": "code",
   "execution_count": 257,
   "id": "9a8dfeca-dc0e-4714-a5b3-60593e9b0f22",
   "metadata": {},
   "outputs": [
    {
     "data": {
      "text/plain": [
       "Index(['ID', 'Year_Birth', 'Education', 'Marital_Status', 'Income', 'Kidhome',\n",
       "       'Teenhome', 'Dt_Customer', 'Recency', 'MntWines', 'MntFruits',\n",
       "       'MntMeatProducts', 'MntFishProducts', 'MntSweetProducts',\n",
       "       'MntGoldProds', 'NumDealsPurchases', 'NumWebPurchases',\n",
       "       'NumCatalogPurchases', 'NumStorePurchases', 'NumWebVisitsMonth',\n",
       "       'AcceptedCmp3', 'AcceptedCmp4', 'AcceptedCmp5', 'AcceptedCmp1',\n",
       "       'AcceptedCmp2', 'Response', 'Complain', 'Country', 'Total_Children',\n",
       "       'Age'],\n",
       "      dtype='object')"
      ]
     },
     "execution_count": 257,
     "metadata": {},
     "output_type": "execute_result"
    }
   ],
   "source": [
    "df.columns"
   ]
  },
  {
   "cell_type": "code",
   "execution_count": 259,
   "id": "26740159-4571-453a-b687-12732cbd58d2",
   "metadata": {},
   "outputs": [
    {
     "data": {
      "text/plain": [
       "0       1190\n",
       "1        577\n",
       "2        251\n",
       "3         11\n",
       "4         91\n",
       "        ... \n",
       "2235     689\n",
       "2236      55\n",
       "2237     309\n",
       "2238    1383\n",
       "2239    1078\n",
       "Name: Total_Spending, Length: 2240, dtype: int64"
      ]
     },
     "execution_count": 259,
     "metadata": {},
     "output_type": "execute_result"
    }
   ],
   "source": [
    "df['Total_Spending'] = df[['MntWines', 'MntFruits',\n",
    "       'MntMeatProducts', 'MntFishProducts', 'MntSweetProducts',\n",
    "       'MntGoldProds']].sum(axis=1)\n",
    "\n",
    "df['Total_Spending']\n",
    "\n"
   ]
  },
  {
   "cell_type": "code",
   "execution_count": 261,
   "id": "72f5dd67-fd68-4224-9aee-6e2d0114b4ae",
   "metadata": {},
   "outputs": [],
   "source": [
    "df['Total_Purchases'] = df[['NumWebPurchases','NumCatalogPurchases', 'NumStorePurchases']].sum(axis=1)"
   ]
  },
  {
   "cell_type": "code",
   "execution_count": 263,
   "id": "8238c6c1-e93e-44c5-a0e8-bc7ddc1cb349",
   "metadata": {},
   "outputs": [],
   "source": [
    "df1 = df[['Education', 'Marital_Status', 'Income', 'Total_Children', 'Age', 'Total_Spending', 'Total_Purchases','NumStorePurchases','NumWebPurchases']].copy()"
   ]
  },
  {
   "cell_type": "code",
   "execution_count": 265,
   "id": "6292cabc-0421-43b7-a30f-1f6d7c006a92",
   "metadata": {},
   "outputs": [
    {
     "name": "stdout",
     "output_type": "stream",
     "text": [
      "       Education Marital_Status   Income  Total_Children  Age  Total_Spending  \\\n",
      "0     graduation       divorced  84835.0               0   55            1190   \n",
      "1     graduation         single  57091.0               0   64             577   \n",
      "2     graduation        married  67267.0               1   67             251   \n",
      "3     graduation       together  32474.0               2   58              11   \n",
      "4     graduation         single  21474.0               1   36              91   \n",
      "...          ...            ...      ...             ...  ...             ...   \n",
      "2235         phd       divorced  66476.0               1   49             689   \n",
      "2236    2n cycle        married  31056.0               1   48              55   \n",
      "2237  graduation       divorced  46310.0               1   49             309   \n",
      "2238  graduation        married  65819.0               0   47            1383   \n",
      "2239         phd        married  94871.0               2   56            1078   \n",
      "\n",
      "      Total_Purchases  NumStorePurchases  NumWebPurchases  \n",
      "0                  14                  6                4  \n",
      "1                  17                  7                7  \n",
      "2                  10                  5                3  \n",
      "3                   3                  2                1  \n",
      "4                   6                  2                3  \n",
      "...               ...                ...              ...  \n",
      "2235               18                 11                5  \n",
      "2236                4                  3                1  \n",
      "2237               12                  5                6  \n",
      "2238               19                 10                5  \n",
      "2239               17                  4                8  \n",
      "\n",
      "[2240 rows x 9 columns]\n"
     ]
    }
   ],
   "source": [
    "print(df1)"
   ]
  },
  {
   "cell_type": "markdown",
   "id": "d754657d-b1c6-41a0-9259-ef5bbef7c0cf",
   "metadata": {},
   "source": [
    "#### Outlier"
   ]
  },
  {
   "cell_type": "code",
   "execution_count": 268,
   "id": "ca595858-6c18-47d5-a390-175c2b461ad9",
   "metadata": {},
   "outputs": [],
   "source": [
    "def find_outliers_iqr(data, column):\n",
    "    Q1 = data[column].quantile(0.25)\n",
    "    Q3 = data[column].quantile(0.75)\n",
    "    IQR = Q3 - Q1\n",
    "    lower_bound = Q1 - 1.5 * IQR\n",
    "    upper_bound = Q3 + 1.5 * IQR\n",
    "    return  (len(data[data[column] < lower_bound])+len(data[data[column] > upper_bound]))/len(data)"
   ]
  },
  {
   "cell_type": "code",
   "execution_count": 270,
   "id": "5888ad4d-d94d-4692-87b5-5052edcb8aec",
   "metadata": {},
   "outputs": [],
   "source": [
    "num_cols = ['Income', 'Age', 'Total_Spending', 'Total_Purchases', \n",
    "            'NumWebPurchases',  'NumStorePurchases']"
   ]
  },
  {
   "cell_type": "code",
   "execution_count": 272,
   "id": "a18b9b65-9d5b-4c9d-b8ce-8671e3ba4bb7",
   "metadata": {},
   "outputs": [
    {
     "name": "stdout",
     "output_type": "stream",
     "text": [
      "Income → 0.36% outliers\n",
      "Age → 0.13% outliers\n",
      "Total_Spending → 0.13% outliers\n",
      "Total_Purchases → 0.00% outliers\n",
      "NumWebPurchases → 0.18% outliers\n",
      "NumStorePurchases → 0.00% outliers\n"
     ]
    }
   ],
   "source": [
    "for col in num_cols:\n",
    "    outlier_ratio = find_outliers_iqr(df1, col)\n",
    "    print(f\"{col} → {outlier_ratio:.2%} outliers\")"
   ]
  },
  {
   "cell_type": "code",
   "execution_count": 274,
   "id": "f5eeb5b2-659b-47a8-8508-a072a26e1beb",
   "metadata": {},
   "outputs": [
    {
     "data": {
      "image/png": "[encoded data removed]",
      "text/plain": [
       "<Figure size 640x480 with 6 Axes>"
      ]
     },
     "metadata": {},
     "output_type": "display_data"
    }
   ],
   "source": [
    "for i, col in enumerate(num_cols):\n",
    "    plt.subplot(2, 4, i+1)\n",
    "    sns.boxplot(x=df1[col])\n",
    "    plt.title(col)\n",
    "plt.tight_layout()\n",
    "plt.show()"
   ]
  },
  {
   "cell_type": "markdown",
   "id": "33a7ed05-d00b-4c94-a36e-66f75e91cd2a",
   "metadata": {},
   "source": [
    "## Hypothesis Testing"
   ]
  },
  {
   "cell_type": "markdown",
   "id": "3dd2aed5-4b7f-41d3-b37b-af3c7ba2f7f4",
   "metadata": {},
   "source": [
    "### Chi square Test - Older people are not tech-savvy and probably prefer shopping in-store"
   ]
  },
  {
   "cell_type": "code",
   "execution_count": 278,
   "id": "95ad371e-deb9-460c-804e-4e0c8fbde24f",
   "metadata": {},
   "outputs": [],
   "source": [
    "df1['AgeGroup'] = df['Age'].apply(lambda x: 'Older' if x > 65 else 'Younger')"
   ]
  },
  {
   "cell_type": "code",
   "execution_count": 280,
   "id": "41c13a9a-0a1e-4570-a7d3-415b501db964",
   "metadata": {},
   "outputs": [],
   "source": [
    "df1['Channel_Group'] = df.apply( lambda row: 'Web+Catalog' if (row['NumWebPurchases'] + row['NumCatalogPurchases']) > row['NumStorePurchases'] \n",
    "    else 'In-Store', \n",
    "    axis=1)\n"
   ]
  },
  {
   "cell_type": "code",
   "execution_count": 282,
   "id": "6df102ed-34ec-4168-8553-43525e5a5eeb",
   "metadata": {},
   "outputs": [
    {
     "name": "stdout",
     "output_type": "stream",
     "text": [
      "Channel_Group  In-Store  Web+Catalog\n",
      "AgeGroup                            \n",
      "Older               276          294\n",
      "Younger             986          684\n"
     ]
    }
   ],
   "source": [
    "contingency_table = pd.crosstab(df1['AgeGroup'], df1['Channel_Group'])\n",
    "print(contingency_table)"
   ]
  },
  {
   "cell_type": "code",
   "execution_count": 284,
   "id": "e3c27d19-7bc0-48a1-9a5f-7f5d6e8bcb12",
   "metadata": {},
   "outputs": [
    {
     "name": "stdout",
     "output_type": "stream",
     "text": [
      "Chi-Square Statistic: 19.058325789438545\n",
      "Degrees of Freedom: 1\n",
      "p-value: 1.2678342623718128e-05\n"
     ]
    }
   ],
   "source": [
    "chi2, p_value, dof, expected = stats.chi2_contingency(contingency_table)\n",
    "\n",
    "# Output results\n",
    "print(\"Chi-Square Statistic:\", chi2)\n",
    "print(\"Degrees of Freedom:\", dof)\n",
    "print(\"p-value:\", p_value)\n"
   ]
  },
  {
   "cell_type": "code",
   "execution_count": 286,
   "id": "d4206d3b-36c3-4fc3-a411-c5bca6baa13b",
   "metadata": {},
   "outputs": [
    {
     "name": "stdout",
     "output_type": "stream",
     "text": [
      "Reject the null hypothesis - Older people are not tech-savvy and probably prefer shopping in-store. \n"
     ]
    }
   ],
   "source": [
    "alpha = 0.05\n",
    "if(p_value < alpha):\n",
    "    print(\"Reject the null hypothesis - Older people are not tech-savvy and probably prefer shopping in-store. \")\n",
    "else:\n",
    "    print(\"Fail to reject the null hypothesis -Older people are  tech-savvy and probably prefer shopping web-store.\")"
   ]
  },
  {
   "cell_type": "markdown",
   "id": "ca41afd3-afc0-410b-840d-b221ea62d012",
   "metadata": {},
   "source": [
    "### Ztest "
   ]
  },
  {
   "cell_type": "code",
   "execution_count": 289,
   "id": "c8d32248-797c-4eee-9630-ffa12655a68c",
   "metadata": {},
   "outputs": [
    {
     "name": "stdout",
     "output_type": "stream",
     "text": [
      "  Age_Range  NumStorePurchases\n",
      "0     18-29                NaN\n",
      "1     30-39           5.829932\n",
      "2     40-49           5.130719\n",
      "3     50-59           5.538674\n",
      "4     60-65           6.106776\n",
      "5       65+           6.585714\n"
     ]
    },
    {
     "name": "stderr",
     "output_type": "stream",
     "text": [
      "C:\\Users\\Usharani\\AppData\\Local\\Temp\\ipykernel_25856\\2578508525.py:4: FutureWarning: The default of observed=False is deprecated and will be changed to True in a future version of pandas. Pass observed=False to retain current behavior or observed=True to adopt the future default and silence this warning.\n",
      "  age_purchase_mean = df1.groupby('Age_Range')['NumStorePurchases'].mean().reset_index()\n"
     ]
    }
   ],
   "source": [
    "bins = [18, 29, 39, 49, 59, 69, 100]\n",
    "labels = ['18-29', '30-39', '40-49', '50-59', '60-65', '65+']\n",
    "df1['Age_Range'] = pd.cut(df1['Age'], bins=bins, labels=labels, right=False)\n",
    "age_purchase_mean = df1.groupby('Age_Range')['NumStorePurchases'].mean().reset_index()\n",
    "\n",
    "print(age_purchase_mean)\n"
   ]
  },
  {
   "cell_type": "code",
   "execution_count": 291,
   "id": "615fcf08-f53d-459d-ad64-9ae5a22d5eb6",
   "metadata": {},
   "outputs": [],
   "source": [
    "ageLess65 = df1[df1['Age'] < 65]['NumStorePurchases']\n",
    "ageGreater65 = df1[df1['Age'] > 65]['NumStorePurchases']"
   ]
  },
  {
   "cell_type": "code",
   "execution_count": 293,
   "id": "d285eac7-069f-4c8e-a9cd-3780b9ea3dfb",
   "metadata": {},
   "outputs": [
    {
     "name": "stdout",
     "output_type": "stream",
     "text": [
      "Z-statistic: -5.337446741923179\n",
      "P-value: 9.42645786660512e-08\n"
     ]
    }
   ],
   "source": [
    "# Perform the two-sample Z-test\n",
    "z_stat, p_value = ztest(ageLess65, ageGreater65)\n",
    "\n",
    "print(f\"Z-statistic: {z_stat}\")\n",
    "print(f\"P-value: {p_value}\")"
   ]
  },
  {
   "cell_type": "markdown",
   "id": "1719dda0-6d7d-4bf0-ab13-50650092b839",
   "metadata": {},
   "source": [
    "## The bar chart shows tat older ppl prefer Instore purchase"
   ]
  },
  {
   "cell_type": "code",
   "execution_count": 296,
   "id": "fd140487-b2a8-40c1-bac4-039064e20dbc",
   "metadata": {},
   "outputs": [
    {
     "data": {
      "image/png": "[encoded data removed]",
      "text/plain": [
       "<Figure size 800x600 with 1 Axes>"
      ]
     },
     "metadata": {},
     "output_type": "display_data"
    }
   ],
   "source": [
    "#o\tOlder people are not as tech-savvy and probably prefer shopping in-store.\n",
    "plt.figure(figsize=(8, 6))\n",
    "sns.barplot(data=age_purchase_mean, x='Age_Range', y='NumStorePurchases')\n",
    "# Adding labels and title\n",
    "plt.title('Age Rangevs Store Purchase')\n",
    "plt.xlabel('Age Range')\n",
    "plt.ylabel('Store Purchases')\n",
    "plt.show()"
   ]
  },
  {
   "cell_type": "markdown",
   "id": "5c5bd4a3-b5cf-4609-9609-a3ec1b00f546",
   "metadata": {},
   "source": [
    "### H0-Customers with kids probably have less time to visit a store and would prefer to shop online."
   ]
  },
  {
   "cell_type": "code",
   "execution_count": 299,
   "id": "341bfc64-45cf-412d-b0bc-713214055c2e",
   "metadata": {},
   "outputs": [
    {
     "name": "stdout",
     "output_type": "stream",
     "text": [
      "Channel_Group  In-Store  Web\n",
      "Has_Children                \n",
      "0                   568   70\n",
      "1                  1302  300\n"
     ]
    }
   ],
   "source": [
    "df1['Has_Children'] = df1['Total_Children'].apply(lambda x: 1 if x > 0 else 0)\n",
    "# age_purchase_web = df1.groupby('Has_Children')['NumStorePurchases'].mean().reset_index()\n",
    "df1['Channel_Group'] = df.apply(\n",
    "    lambda row: 'Web' if (row['NumWebPurchases'] ) > row['NumStorePurchases']\n",
    "    else 'In-Store', \n",
    "    axis=1\n",
    ")\n",
    "child_channel_tab = pd.crosstab(df1['Has_Children'], df1['Channel_Group'])\n",
    "print(child_channel_tab)\n"
   ]
  },
  {
   "cell_type": "code",
   "execution_count": 301,
   "id": "ba812363-50cd-4e9f-928d-68e10887802f",
   "metadata": {},
   "outputs": [
    {
     "name": "stdout",
     "output_type": "stream",
     "text": [
      "Chi-square: 19.340527323545967\n",
      "p-value: 1.0936040498993082e-05\n"
     ]
    }
   ],
   "source": [
    "chi2, p, dof, expected = stats.chi2_contingency(child_channel_tab)\n",
    "print(\"Chi-square:\", chi2)\n",
    "print(\"p-value:\", p)"
   ]
  },
  {
   "cell_type": "code",
   "execution_count": 303,
   "id": "c29d6ad6-afb2-4e6c-b445-9557cbdb4ef1",
   "metadata": {},
   "outputs": [
    {
     "name": "stdout",
     "output_type": "stream",
     "text": [
      "Reject the null hypothesis -Customers with kids also  visit a store \n"
     ]
    }
   ],
   "source": [
    "alpha = 0.05\n",
    "if(p_value < alpha):\n",
    "    print(\"Reject the null hypothesis -Customers with kids also  visit a store \")\n",
    "else:\n",
    "    print(\"Fail to reject the null hypothesis -Customers with kids probably have less time to visit a store and would prefer to shop online.\")"
   ]
  },
  {
   "cell_type": "code",
   "execution_count": 305,
   "id": "15d958a7-b6b5-4cfd-8a5e-6535823a13cf",
   "metadata": {},
   "outputs": [
    {
     "data": {
      "text/html": [
       "<div>\n",
       "<style scoped>\n",
       "    .dataframe tbody tr th:only-of-type {\n",
       "        vertical-align: middle;\n",
       "    }\n",
       "\n",
       "    .dataframe tbody tr th {\n",
       "        vertical-align: top;\n",
       "    }\n",
       "\n",
       "    .dataframe thead th {\n",
       "        text-align: right;\n",
       "    }\n",
       "</style>\n",
       "<table border=\"1\" class=\"dataframe\">\n",
       "  <thead>\n",
       "    <tr style=\"text-align: right;\">\n",
       "      <th></th>\n",
       "      <th>Has_Children</th>\n",
       "      <th>Channel</th>\n",
       "      <th>Count</th>\n",
       "    </tr>\n",
       "  </thead>\n",
       "  <tbody>\n",
       "    <tr>\n",
       "      <th>0</th>\n",
       "      <td>0</td>\n",
       "      <td>In-Store</td>\n",
       "      <td>568</td>\n",
       "    </tr>\n",
       "    <tr>\n",
       "      <th>1</th>\n",
       "      <td>1</td>\n",
       "      <td>In-Store</td>\n",
       "      <td>1302</td>\n",
       "    </tr>\n",
       "    <tr>\n",
       "      <th>2</th>\n",
       "      <td>0</td>\n",
       "      <td>Web</td>\n",
       "      <td>70</td>\n",
       "    </tr>\n",
       "    <tr>\n",
       "      <th>3</th>\n",
       "      <td>1</td>\n",
       "      <td>Web</td>\n",
       "      <td>300</td>\n",
       "    </tr>\n",
       "  </tbody>\n",
       "</table>\n",
       "</div>"
      ],
      "text/plain": [
       "   Has_Children   Channel  Count\n",
       "0             0  In-Store    568\n",
       "1             1  In-Store   1302\n",
       "2             0       Web     70\n",
       "3             1       Web    300"
      ]
     },
     "execution_count": 305,
     "metadata": {},
     "output_type": "execute_result"
    }
   ],
   "source": [
    "child_channel_long = child_channel_tab.reset_index().melt(\n",
    "    id_vars='Has_Children',\n",
    "    var_name='Channel',\n",
    "    value_name='Count'\n",
    ")\n",
    "child_channel_long"
   ]
  },
  {
   "cell_type": "code",
   "execution_count": 307,
   "id": "026016eb-a332-42d8-a949-a11b820a6cb9",
   "metadata": {},
   "outputs": [
    {
     "data": {
      "text/plain": [
       "<Axes: xlabel='Has_Children', ylabel='Count'>"
      ]
     },
     "execution_count": 307,
     "metadata": {},
     "output_type": "execute_result"
    },
    {
     "data": {
      "image/png": "[encoded data removed]",
      "text/plain": [
       "<Figure size 640x480 with 1 Axes>"
      ]
     },
     "metadata": {},
     "output_type": "display_data"
    }
   ],
   "source": [
    "sns.barplot(data=child_channel_long, x='Has_Children', y='Count', hue='Channel', palette='Set2')\n"
   ]
  },
  {
   "cell_type": "markdown",
   "id": "436828d4-daba-4aa6-ab69-c4a43eeb3ada",
   "metadata": {},
   "source": [
    "### h0- There is no caniibilation of other distribution channle"
   ]
  },
  {
   "cell_type": "code",
   "execution_count": 310,
   "id": "918da7b7-52e5-4e0a-ab8b-d9daa4b0c26d",
   "metadata": {},
   "outputs": [],
   "source": [
    "df1['Web_Catalog'] = df['NumWebPurchases'] + df['NumCatalogPurchases']"
   ]
  },
  {
   "cell_type": "code",
   "execution_count": 312,
   "id": "ff3cc6a9-4420-48cf-990c-324b6642365c",
   "metadata": {},
   "outputs": [
    {
     "data": {
      "text/plain": [
       "6.0"
      ]
     },
     "execution_count": 312,
     "metadata": {},
     "output_type": "execute_result"
    }
   ],
   "source": [
    "median_val = df1['Web_Catalog'].median()\n",
    "median_val"
   ]
  },
  {
   "cell_type": "code",
   "execution_count": 314,
   "id": "dcea0b8c-9e9c-4092-a825-f148acbc3600",
   "metadata": {},
   "outputs": [],
   "source": [
    "group1 = df1[df1['Web_Catalog'] > median_val]['NumStorePurchases']\n",
    "group2 = df1[df1['Web_Catalog'] <= median_val]['NumStorePurchases']\n"
   ]
  },
  {
   "cell_type": "code",
   "execution_count": 316,
   "id": "9ff8dd3d-45e2-4714-91f1-2d675e34e33e",
   "metadata": {},
   "outputs": [],
   "source": [
    "mean_diff = group1.mean() - group2.mean()"
   ]
  },
  {
   "cell_type": "code",
   "execution_count": 318,
   "id": "306e084d-4cf3-4c84-bc80-3ceb066922a4",
   "metadata": {},
   "outputs": [],
   "source": [
    "std1 = np.sqrt((group1.std()**2 / len(group1)) + (group2.std()**2 / len(group1)))\n",
    "z_score = mean_diff / std1\n",
    "p_value = stats.norm.cdf(z_score)  # One-tailed test (if expecting lower)"
   ]
  },
  {
   "cell_type": "code",
   "execution_count": 320,
   "id": "333b2de8-7bef-4e5e-86b1-5c8f31af77a2",
   "metadata": {},
   "outputs": [
    {
     "name": "stdout",
     "output_type": "stream",
     "text": [
      "Z-score: 39.885936683998914\n",
      "P-value: 1.0\n"
     ]
    }
   ],
   "source": [
    "print(\"Z-score:\", z_score)\n",
    "print(\"P-value:\", p_value)"
   ]
  },
  {
   "cell_type": "code",
   "execution_count": 322,
   "id": "5cfe8965-1e55-4a32-8d8c-f90c47635755",
   "metadata": {},
   "outputs": [
    {
     "name": "stdout",
     "output_type": "stream",
     "text": [
      "Fail to reject the null hypothesis -There is no canibilation of other distribution channle\n"
     ]
    }
   ],
   "source": [
    "alpha = 0.05\n",
    "if(p_value < alpha):\n",
    "    print(\"Reject the null hypothesis -There is  canibilation of other distribution channel \")\n",
    "else:\n",
    "    print(\"Fail to reject the null hypothesis -There is no canibilation of other distribution channle\")"
   ]
  },
  {
   "cell_type": "markdown",
   "id": "c45e154a-1a0b-4841-9482-9cff4dc8af89",
   "metadata": {},
   "source": [
    "### Does the US fare significantly better than the rest of the world in terms of total purchases?"
   ]
  },
  {
   "cell_type": "code",
   "execution_count": 325,
   "id": "85e7ed60-c8c1-40d5-9c40-a91dbc756f83",
   "metadata": {},
   "outputs": [
    {
     "data": {
      "text/plain": [
       "Country\n",
       "AUS     561.018750\n",
       "CA      628.850746\n",
       "GER     624.275000\n",
       "IND     537.060811\n",
       "ME     1040.666667\n",
       "SA      626.323442\n",
       "SP      604.767123\n",
       "US      622.770642\n",
       "Name: Total_Spending, dtype: float64"
      ]
     },
     "execution_count": 325,
     "metadata": {},
     "output_type": "execute_result"
    }
   ],
   "source": [
    "df.groupby('Country')['Total_Spending'].mean()"
   ]
  },
  {
   "cell_type": "code",
   "execution_count": 327,
   "id": "fa8ef5e2-3cfc-4120-8148-86e0e4e11418",
   "metadata": {},
   "outputs": [],
   "source": [
    "us_data = df[df['Country'] == 'US']['Total_Spending']\n",
    "other_data = df[df['Country'] != 'US']['Total_Spending']\n",
    "n_us = len(us_data)\n",
    "n_row = len(other_data)"
   ]
  },
  {
   "cell_type": "code",
   "execution_count": 329,
   "id": "a94aa961-44d3-40fe-99f7-b18fbf4f2f5d",
   "metadata": {},
   "outputs": [
    {
     "data": {
      "text/plain": [
       "622.7706422018349"
      ]
     },
     "execution_count": 329,
     "metadata": {},
     "output_type": "execute_result"
    }
   ],
   "source": [
    "mean_us = np.mean(us_data)\n",
    "mean_us"
   ]
  },
  {
   "cell_type": "code",
   "execution_count": 331,
   "id": "f0e97c56-b5b0-4f60-a1d6-63b77d9053bc",
   "metadata": {},
   "outputs": [
    {
     "data": {
      "text/plain": [
       "604.9300797747536"
      ]
     },
     "execution_count": 331,
     "metadata": {},
     "output_type": "execute_result"
    }
   ],
   "source": [
    "mean_row = np.mean(other_data)\n",
    "mean_row"
   ]
  },
  {
   "cell_type": "code",
   "execution_count": 333,
   "id": "eaab7f6b-11df-43e3-86cf-feb12fe1acbb",
   "metadata": {},
   "outputs": [],
   "source": [
    "std_us = np.std(us_data, ddof=1)   # Sample standard deviation\n",
    "std_row = np.std(other_data, ddof=1)"
   ]
  },
  {
   "cell_type": "code",
   "execution_count": 335,
   "id": "1ef26efa-ea01-40c8-9e20-3c1802508282",
   "metadata": {},
   "outputs": [],
   "source": [
    "z_score = (mean_us - mean_row) / np.sqrt((std_us**2 / n_us) + (std_row**2 / n_row))"
   ]
  },
  {
   "cell_type": "code",
   "execution_count": 337,
   "id": "d18a0a27-ab75-4c1b-93ed-066664ee1583",
   "metadata": {},
   "outputs": [
    {
     "data": {
      "text/plain": [
       "0.37286077479695057"
      ]
     },
     "execution_count": 337,
     "metadata": {},
     "output_type": "execute_result"
    }
   ],
   "source": [
    "# Calculate p-value (one-tailed test)\n",
    "p_value = 1 - stats.norm.cdf(z_score)\n",
    "p_value"
   ]
  },
  {
   "cell_type": "code",
   "execution_count": 339,
   "id": "7b560511-cf5e-48b9-8c28-518e6d888223",
   "metadata": {},
   "outputs": [
    {
     "name": "stdout",
     "output_type": "stream",
     "text": [
      "Fail to reject the null hypothesis: Significant difference in total purchases.\n"
     ]
    }
   ],
   "source": [
    "if p_value < 0.05:\n",
    "    print(\"Reject the null hypothesis:No Difference from the rest of the world.\")\n",
    "else:\n",
    "    print(\"Fail to reject the null hypothesis: Significant difference in total purchases.\")"
   ]
  },
  {
   "cell_type": "markdown",
   "id": "3b3a782b-65c0-444c-9954-5836e66f585a",
   "metadata": {},
   "source": [
    "### Visualization"
   ]
  },
  {
   "cell_type": "markdown",
   "id": "55195b8f-3dca-468c-b1dc-2ae286e80167",
   "metadata": {},
   "source": [
    "### Best and Worst Performing Products in Terms of Revenue"
   ]
  },
  {
   "cell_type": "code",
   "execution_count": 343,
   "id": "143ac8bf-fd2f-40f3-9aac-d2bfbde73fe0",
   "metadata": {},
   "outputs": [],
   "source": [
    "product_revenue = df[['MntWines', 'MntFruits', 'MntMeatProducts', 'MntFishProducts', \n",
    "                      'MntSweetProducts', 'MntGoldProds']].sum()\n",
    "product_revenue_sorted = product_revenue.sort_values(ascending=True)"
   ]
  },
  {
   "cell_type": "markdown",
   "id": "55bdd5bd-ad19-4653-8ad2-458defe27276",
   "metadata": {},
   "source": [
    "## Inference-The trend shows the performance of the product in ascending order"
   ]
  },
  {
   "cell_type": "code",
   "execution_count": 346,
   "id": "ebfed390-3c88-45d5-a0b0-7c2d54cad6ae",
   "metadata": {},
   "outputs": [
    {
     "name": "stderr",
     "output_type": "stream",
     "text": [
      "C:\\Users\\Usharani\\AppData\\Local\\Temp\\ipykernel_25856\\787257633.py:2: FutureWarning: \n",
      "\n",
      "Passing `palette` without assigning `hue` is deprecated and will be removed in v0.14.0. Assign the `x` variable to `hue` and set `legend=False` for the same effect.\n",
      "\n",
      "  sns.barplot(x=product_revenue.index, y=product_revenue_sorted.values, palette=\"coolwarm\")\n"
     ]
    },
    {
     "data": {
      "text/plain": [
       "<Axes: xlabel='None'>"
      ]
     },
     "execution_count": 346,
     "metadata": {},
     "output_type": "execute_result"
    },
    {
     "data": {
      "image/png": "[encoded data removed]",
      "text/plain": [
       "<Figure size 1000x500 with 1 Axes>"
      ]
     },
     "metadata": {},
     "output_type": "display_data"
    }
   ],
   "source": [
    "plt.figure(figsize=(10, 5))\n",
    "sns.barplot(x=product_revenue.index, y=product_revenue_sorted.values, palette=\"coolwarm\")\n"
   ]
  },
  {
   "cell_type": "markdown",
   "id": "0f114e5f-6230-435e-8b43-0bd8047d1f11",
   "metadata": {},
   "source": [
    "### Pattern Between Age and Last Campaign Acceptance Rate"
   ]
  },
  {
   "cell_type": "code",
   "execution_count": 349,
   "id": "6cf9772c-6ce1-48a0-ac5d-22c6f87f24c2",
   "metadata": {},
   "outputs": [],
   "source": [
    "age_acceptance = df.groupby('Age')['AcceptedCmp5'].mean().reset_index()\n"
   ]
  },
  {
   "cell_type": "code",
   "execution_count": 351,
   "id": "4b12305b-840c-4270-a672-396ba4134992",
   "metadata": {},
   "outputs": [
    {
     "data": {
      "text/plain": [
       "<Axes: xlabel='Age', ylabel='AcceptedCmp5'>"
      ]
     },
     "execution_count": 351,
     "metadata": {},
     "output_type": "execute_result"
    },
    {
     "data": {
      "image/png": "[encoded data removed]",
      "text/plain": [
       "<Figure size 1000x500 with 1 Axes>"
      ]
     },
     "metadata": {},
     "output_type": "display_data"
    }
   ],
   "source": [
    "plt.figure(figsize=(10, 5))\n",
    "sns.lineplot(x='Age', y='AcceptedCmp5', data=age_acceptance, marker=\"o\")"
   ]
  },
  {
   "cell_type": "code",
   "execution_count": 352,
   "id": "fa889404-c9c0-4a90-b79b-52eb87b3bbef",
   "metadata": {},
   "outputs": [],
   "source": [
    "##  Inference-The trend shows the older ppl have significatly accepted the last campagin"
   ]
  },
  {
   "cell_type": "markdown",
   "id": "61966041-e065-483d-9a61-5fd18d4f5073",
   "metadata": {},
   "source": [
    "### Country with the Most Customers Who Accepted the Last Campaign"
   ]
  },
  {
   "cell_type": "code",
   "execution_count": 356,
   "id": "f8988b8a-5443-4c1d-b345-fd548f7c5060",
   "metadata": {},
   "outputs": [
    {
     "data": {
      "text/plain": [
       "<Axes: xlabel='Country', ylabel='AcceptedCmp5'>"
      ]
     },
     "execution_count": 356,
     "metadata": {},
     "output_type": "execute_result"
    },
    {
     "data": {
      "image/png": "[encoded data removed]",
      "text/plain": [
       "<Figure size 1000x500 with 1 Axes>"
      ]
     },
     "metadata": {},
     "output_type": "display_data"
    }
   ],
   "source": [
    "country_acceptance = df.groupby('Country')['AcceptedCmp5'].sum().reset_index()\n",
    "\n",
    "plt.figure(figsize=(10, 5))\n",
    "sns.barplot(y='AcceptedCmp5', x='Country', data=country_acceptance)"
   ]
  },
  {
   "cell_type": "markdown",
   "id": "2f113b43-6d49-4252-9b7b-929751a22c5b",
   "metadata": {},
   "source": [
    "##  Inference-The trend shows the country have significatly accepted the last campagin"
   ]
  },
  {
   "cell_type": "markdown",
   "id": "346de89e-dab0-4918-9de6-b252a1b8e315",
   "metadata": {},
   "source": [
    "### Pattern Between Number of Children at Home and Total Spend"
   ]
  },
  {
   "cell_type": "code",
   "execution_count": 359,
   "id": "0e026c5a-7f2a-402b-9678-3886ead2e7fa",
   "metadata": {},
   "outputs": [
    {
     "data": {
      "text/plain": [
       "0       1190\n",
       "1        577\n",
       "2        251\n",
       "3         11\n",
       "4         91\n",
       "        ... \n",
       "2235     689\n",
       "2236      55\n",
       "2237     309\n",
       "2238    1383\n",
       "2239    1078\n",
       "Name: TotalSpend, Length: 2240, dtype: int64"
      ]
     },
     "execution_count": 359,
     "metadata": {},
     "output_type": "execute_result"
    }
   ],
   "source": [
    "df['TotalSpend'] = df[['MntWines', 'MntFruits', 'MntMeatProducts', 'MntFishProducts',\n",
    "                       'MntSweetProducts', 'MntGoldProds']].sum(axis=1)\n",
    "df['TotalSpend'] "
   ]
  },
  {
   "cell_type": "code",
   "execution_count": 362,
   "id": "719e1ee9-ea3b-44d7-a2f1-4a7073e237d0",
   "metadata": {},
   "outputs": [
    {
     "name": "stderr",
     "output_type": "stream",
     "text": [
      "C:\\Users\\Usharani\\AppData\\Local\\Temp\\ipykernel_25856\\141187997.py:1: FutureWarning: \n",
      "\n",
      "Passing `palette` without assigning `hue` is deprecated and will be removed in v0.14.0. Assign the `x` variable to `hue` and set `legend=False` for the same effect.\n",
      "\n",
      "  sns.barplot(x='Total_Children', y='TotalSpend', data=df, palette=\"coolwarm\")\n"
     ]
    },
    {
     "data": {
      "text/plain": [
       "<Axes: xlabel='Total_Children', ylabel='TotalSpend'>"
      ]
     },
     "execution_count": 362,
     "metadata": {},
     "output_type": "execute_result"
    },
    {
     "data": {
      "image/png": "[encoded data removed]",
      "text/plain": [
       "<Figure size 640x480 with 1 Axes>"
      ]
     },
     "metadata": {},
     "output_type": "display_data"
    }
   ],
   "source": [
    "sns.barplot(x='Total_Children', y='TotalSpend', data=df, palette=\"coolwarm\")"
   ]
  },
  {
   "cell_type": "markdown",
   "id": "0e96ed8e-b576-43e8-b0b7-c0c1a8d7f8f0",
   "metadata": {},
   "source": [
    "### ##  Inference-The trend shows people with no children tend to spend more"
   ]
  },
  {
   "cell_type": "markdown",
   "id": "339ef77d-10e1-470a-a7ed-c1f77e1fa5f1",
   "metadata": {},
   "source": [
    "### Education Background of Customers Who Complained in the Last 2 Years"
   ]
  },
  {
   "cell_type": "code",
   "execution_count": 366,
   "id": "cebe8974-441b-423a-9472-1e7b01b491fe",
   "metadata": {},
   "outputs": [
    {
     "data": {
      "text/plain": [
       "Education\n",
       "graduation    14\n",
       "2n cycle       4\n",
       "master         2\n",
       "phd            1\n",
       "Name: count, dtype: int64"
      ]
     },
     "execution_count": 366,
     "metadata": {},
     "output_type": "execute_result"
    }
   ],
   "source": [
    "education_complaints = df[df['Complain'] == 1]['Education'].value_counts()\n",
    "education_complaints"
   ]
  },
  {
   "cell_type": "code",
   "execution_count": 368,
   "id": "1effd631-edc2-4b45-b2ac-bb299ad23995",
   "metadata": {},
   "outputs": [
    {
     "name": "stderr",
     "output_type": "stream",
     "text": [
      "C:\\Users\\Usharani\\AppData\\Local\\Temp\\ipykernel_25856\\294669401.py:1: FutureWarning: \n",
      "\n",
      "Passing `palette` without assigning `hue` is deprecated and will be removed in v0.14.0. Assign the `x` variable to `hue` and set `legend=False` for the same effect.\n",
      "\n",
      "  sns.barplot(x=education_complaints.index, y=education_complaints.values, palette=\"coolwarm\")\n"
     ]
    },
    {
     "data": {
      "text/plain": [
       "<Axes: xlabel='Education'>"
      ]
     },
     "execution_count": 368,
     "metadata": {},
     "output_type": "execute_result"
    },
    {
     "data": {
      "image/png": "[encoded data removed]",
      "text/plain": [
       "<Figure size 640x480 with 1 Axes>"
      ]
     },
     "metadata": {},
     "output_type": "display_data"
    }
   ],
   "source": [
    "sns.barplot(x=education_complaints.index, y=education_complaints.values, palette=\"coolwarm\")"
   ]
  },
  {
   "cell_type": "markdown",
   "id": "987d51d2-400e-4172-a544-394dcef39fcc",
   "metadata": {},
   "source": [
    "##  Inference-The trend shows the undergraduate ppl complain more than the PG group"
   ]
  },
  {
   "cell_type": "code",
   "execution_count": 371,
   "id": "07a4adbf-a6bd-49ad-a139-e5023e8c6181",
   "metadata": {},
   "outputs": [
    {
     "data": {
      "text/plain": [
       "<Axes: xlabel='Marital_Status', ylabel='Total_Spending'>"
      ]
     },
     "execution_count": 371,
     "metadata": {},
     "output_type": "execute_result"
    },
    {
     "data": {
      "image/png": "[encoded data removed]",
      "text/plain": [
       "<Figure size 640x480 with 1 Axes>"
      ]
     },
     "metadata": {},
     "output_type": "display_data"
    }
   ],
   "source": [
    "sns.boxplot(data=df1,x='Marital_Status',y='Total_Spending')"
   ]
  }
 ],
 "metadata": {
  "kernelspec": {
   "display_name": "Python [conda env:base] *",
   "language": "python",
   "name": "conda-base-py"
  },
  "language_info": {
   "codemirror_mode": {
    "name": "ipython",
    "version": 3
   },
   "file_extension": ".py",
   "mimetype": "text/x-python",
   "name": "python",
   "nbconvert_exporter": "python",
   "pygments_lexer": "ipython3",
   "version": "3.12.3"
  }
 },
 "nbformat": 4,
 "nbformat_minor": 5
}
