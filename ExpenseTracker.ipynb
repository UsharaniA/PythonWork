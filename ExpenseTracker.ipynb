{
 "cells": [
  {
   "cell_type": "code",
   "execution_count": 1,
   "id": "f2c58727-6bc2-42d9-9d38-6016e4956397",
   "metadata": {},
   "outputs": [],
   "source": [
    "import pandas as pd\n",
    "import json\n",
    "from datetime import datetime\n",
    "import os\n",
    "lista=[] \n",
    "listanew=[] \n",
    "monthbudgetList=[]\n",
    "fixedbudget = {}\n",
    "expensefile = \"expenses.csv\"\n"
   ]
  },
  {
   "cell_type": "code",
   "execution_count": 3,
   "id": "e721da96-9571-41a8-8b97-7bf77b8fb412",
   "metadata": {},
   "outputs": [],
   "source": [
    "def add_expense():\n",
    "    dateofExpense=input(\"Date of Expense in DD-MM-YYYY= \")\n",
    "    categoryofExpense=str(input(\"Category of Expense= \"))\n",
    "    amountspent=float(input(\"Amount Spent \"))\n",
    "    sdescr=str(input(\"Description=\"))\n",
    "    thedict={'date': dateofExpense, 'category': categoryofExpense, 'amount': amountspent, 'description': sdescr}\n",
    "    return thedict\n",
    "\n",
    "# print(getdict)\n",
    "\n",
    "\n",
    "    "
   ]
  },
  {
   "cell_type": "code",
   "execution_count": 5,
   "id": "d837effb-ff47-4876-bb3c-ac5d91d27897",
   "metadata": {},
   "outputs": [],
   "source": [
    "\n",
    "def addDictoList(getdict):  \n",
    "    # getdict=addExpense()\n",
    "    global listanew \n",
    "    setpass=\"True\"\n",
    "    # getdict={'date': \"12/10/1985\", 'category': \"Food\", 'amount': \"10.50\", 'description': \"Lunch for 1\"}    \n",
    "    for key, value in getdict.items():\n",
    "     if value in[\"0\",\"\"]:\n",
    "         print(f\"\\nCurrent Expense Entry: {json.dumps(getdict, indent=2)}\")\n",
    "         value1=input(f\"Enter the value for '{key}': \" )\n",
    "         getdict[key]=value1\n",
    "         \n",
    "    #      setpass=\"False\"\n",
    "    # if (setpass==\"True\"):   \n",
    "    # print(getdict)\n",
    "    listanew.append(getdict)\n",
    "# print(lista)"
   ]
  },
  {
   "cell_type": "code",
   "execution_count": 7,
   "id": "6e0689ca-412e-4f8b-9937-d96bb863fd88",
   "metadata": {},
   "outputs": [],
   "source": [
    "def view_expenses():\n",
    "    # global lista \n",
    "    # print(len(lista))\n",
    "    # for x in range(len(lista)):\n",
    "    #  print( lista[x])\n",
    "    load_expenses()\n",
    "    "
   ]
  },
  {
   "cell_type": "code",
   "execution_count": 9,
   "id": "ee30bfee-53c4-42e0-9d93-de33b8b7b29e",
   "metadata": {},
   "outputs": [],
   "source": [
    "def load_expenses():\n",
    "    global lista\n",
    "    df1=pd.read_csv(\"expenses.csv\")\n",
    "    print(df1)\n",
    "    lista = df1.to_dict(orient=\"records\")\n",
    "    # print(lista)"
   ]
  },
  {
   "cell_type": "code",
   "execution_count": 11,
   "id": "69e32289-d71a-436f-812d-bd07737bf35f",
   "metadata": {},
   "outputs": [],
   "source": [
    "def calculate_budget():\n",
    "    global lista\n",
    "    global fixedbudget\n",
    "    # print(\"length\",len(lista))\n",
    "   \n",
    "    # print(\"fixedbudget\",fixedbudget)\n",
    "    # print(\"lista\",lista)\n",
    "    totalcost=0\n",
    "    month_costs = {}\n",
    "    for i in range(len(lista)):\n",
    "        # print(f\"x{i}\",lista[i])\n",
    "        date_str= (lista[i][\"date\"])\n",
    "        date_obj = datetime.strptime(date_str, \"%d-%m-%Y\") \n",
    "        month_name = date_obj.strftime(\"%B\")  \n",
    "        # print(month_name) \n",
    "        if month_name in month_costs:\n",
    "            month_costs[month_name] += float(lista[i][\"amount\"])  \n",
    "        else:\n",
    "            month_costs[month_name] = float(lista[i][\"amount\"]) \n",
    "       \n",
    "    for month, cost in month_costs.items():\n",
    "        if month in fixedbudget:\n",
    "            if cost > fixedbudget[month]:\n",
    "                print(f\"Overspent in {month}: {cost} exceeds budget {fixedbudget[month]}\")\n",
    "            else:\n",
    "                print(f\"{month} is within budget: {cost} / {fixedbudget[month]}\")\n",
    "        else:\n",
    "            print(f\" No fixed budget set for {month}\")\n",
    "    \n",
    "    # print(\"month_costs\",month_costs)\n",
    "    \n",
    "\n"
   ]
  },
  {
   "cell_type": "code",
   "execution_count": 13,
   "id": "19aa5b8a-532c-4efa-8f24-221bedc57553",
   "metadata": {},
   "outputs": [],
   "source": [
    "def createmonthly_budget():\n",
    "    global fixedbudget\n",
    "\n",
    "    print(\"Current Budget:\", fixedbudget)\n",
    "\n",
    "    budget_month = str(input(\"Enter a Month to add Budget: \"))\n",
    "    total_budget = float(input(\"Enter Monthly Budget Cost: \"))\n",
    "\n",
    "\n",
    "    if budget_month in fixedbudget:\n",
    "        print(f\"Budget for {budget_month} already exists: {fixedbudget[budget_month]}\")\n",
    "        user_value = input(\"Do you want to update the cost? Input Yes/No: \")\n",
    "        if user_value.lower() == \"yes\":\n",
    "            fixedbudget[budget_month] = total_budget\n",
    "            print(f\"Updated budget for {budget_month}: {fixedbudget[budget_month]}\")\n",
    "    else:\n",
    "        fixedbudget[budget_month] = total_budget\n",
    "        print(f\"Added budget for {budget_month}: {fixedbudget[budget_month]}\")\n",
    "\n",
    "    print(\"Updated Budget:\", fixedbudget)"
   ]
  },
  {
   "cell_type": "code",
   "execution_count": 15,
   "id": "0af2269d-ce3a-49df-99a4-c69260a9560f",
   "metadata": {},
   "outputs": [],
   "source": [
    "def save_expenses():\n",
    "    global listanew\n",
    "    global expensefile\n",
    "    file_exists = os.path.exists(expensefile)\n",
    "    \n",
    "    df = pd.DataFrame(listanew)\n",
    "    df.to_csv(expensefile, mode='a', header=not file_exists, index=False)\n",
    "    print (df)"
   ]
  },
  {
   "cell_type": "code",
   "execution_count": 17,
   "id": "5cb1d800-4f1b-4e69-8dd8-518e81cd2c67",
   "metadata": {},
   "outputs": [
    {
     "name": "stdout",
     "output_type": "stream",
     "text": [
      "\n",
      " EXPENSE TRACKER MENU\n",
      "1 Add Expense\n",
      "2️ View Expenses\n",
      "3️ Create Budget\n",
      "4 Track Budget\n",
      "5 Save Expenses\n",
      "6 Exit\n"
     ]
    },
    {
     "name": "stdin",
     "output_type": "stream",
     "text": [
      "Choose an option (1-5):  2\n"
     ]
    },
    {
     "name": "stdout",
     "output_type": "stream",
     "text": [
      "         date  category  amount description\n",
      "0  12-01-2025      Food     112  Food for 2\n",
      "1  12-01-2025    travel     100  Food for 1\n",
      "2  12-02-2025   Clothes    1000    For work\n",
      "3  12-02-2025  Shopping    1000    For work\n",
      "4  12-02-2025  Shopping    1000    For work\n",
      "\n",
      " EXPENSE TRACKER MENU\n",
      "1 Add Expense\n",
      "2️ View Expenses\n",
      "3️ Create Budget\n",
      "4 Track Budget\n",
      "5 Save Expenses\n",
      "6 Exit\n"
     ]
    },
    {
     "name": "stdin",
     "output_type": "stream",
     "text": [
      "Choose an option (1-5):  3\n"
     ]
    },
    {
     "name": "stdout",
     "output_type": "stream",
     "text": [
      "Current Budget: {}\n"
     ]
    },
    {
     "name": "stdin",
     "output_type": "stream",
     "text": [
      "Enter a Month to add Budget:  January\n",
      "Enter Monthly Budget Cost:  100\n"
     ]
    },
    {
     "name": "stdout",
     "output_type": "stream",
     "text": [
      "Added budget for January: 100.0\n",
      "Updated Budget: {'January': 100.0}\n",
      "\n",
      " EXPENSE TRACKER MENU\n",
      "1 Add Expense\n",
      "2️ View Expenses\n",
      "3️ Create Budget\n",
      "4 Track Budget\n",
      "5 Save Expenses\n",
      "6 Exit\n"
     ]
    },
    {
     "name": "stdin",
     "output_type": "stream",
     "text": [
      "Choose an option (1-5):  3\n"
     ]
    },
    {
     "name": "stdout",
     "output_type": "stream",
     "text": [
      "Current Budget: {'January': 100.0}\n"
     ]
    },
    {
     "name": "stdin",
     "output_type": "stream",
     "text": [
      "Enter a Month to add Budget:  February\n",
      "Enter Monthly Budget Cost:  1000\n"
     ]
    },
    {
     "name": "stdout",
     "output_type": "stream",
     "text": [
      "Added budget for February: 1000.0\n",
      "Updated Budget: {'January': 100.0, 'February': 1000.0}\n",
      "\n",
      " EXPENSE TRACKER MENU\n",
      "1 Add Expense\n",
      "2️ View Expenses\n",
      "3️ Create Budget\n",
      "4 Track Budget\n",
      "5 Save Expenses\n",
      "6 Exit\n"
     ]
    },
    {
     "name": "stdin",
     "output_type": "stream",
     "text": [
      "Choose an option (1-5):  1\n",
      "Date of Expense in DD-MM-YYYY=  12-2-2025\n",
      "Category of Expense=  Tariff\n",
      "Amount Spent  100\n",
      "Description= Toll plaza\n"
     ]
    },
    {
     "name": "stdout",
     "output_type": "stream",
     "text": [
      "        date category  amount description\n",
      "0  12-2-2025   Tariff   100.0  Toll plaza\n",
      "\n",
      " EXPENSE TRACKER MENU\n",
      "1 Add Expense\n",
      "2️ View Expenses\n",
      "3️ Create Budget\n",
      "4 Track Budget\n",
      "5 Save Expenses\n",
      "6 Exit\n"
     ]
    },
    {
     "name": "stdin",
     "output_type": "stream",
     "text": [
      "Choose an option (1-5):  2\n"
     ]
    },
    {
     "name": "stdout",
     "output_type": "stream",
     "text": [
      "         date  category  amount description\n",
      "0  12-01-2025      Food   112.0  Food for 2\n",
      "1  12-01-2025    travel   100.0  Food for 1\n",
      "2  12-02-2025   Clothes  1000.0    For work\n",
      "3  12-02-2025  Shopping  1000.0    For work\n",
      "4  12-02-2025  Shopping  1000.0    For work\n",
      "5   12-2-2025    Tariff   100.0  Toll plaza\n",
      "\n",
      " EXPENSE TRACKER MENU\n",
      "1 Add Expense\n",
      "2️ View Expenses\n",
      "3️ Create Budget\n",
      "4 Track Budget\n",
      "5 Save Expenses\n",
      "6 Exit\n"
     ]
    },
    {
     "name": "stdin",
     "output_type": "stream",
     "text": [
      "Choose an option (1-5):  5\n"
     ]
    },
    {
     "name": "stdout",
     "output_type": "stream",
     "text": [
      "        date category  amount description\n",
      "0  12-2-2025   Tariff   100.0  Toll plaza\n",
      "\n",
      " EXPENSE TRACKER MENU\n",
      "1 Add Expense\n",
      "2️ View Expenses\n",
      "3️ Create Budget\n",
      "4 Track Budget\n",
      "5 Save Expenses\n",
      "6 Exit\n"
     ]
    },
    {
     "name": "stdin",
     "output_type": "stream",
     "text": [
      "Choose an option (1-5):  2\n"
     ]
    },
    {
     "name": "stdout",
     "output_type": "stream",
     "text": [
      "         date  category  amount description\n",
      "0  12-01-2025      Food   112.0  Food for 2\n",
      "1  12-01-2025    travel   100.0  Food for 1\n",
      "2  12-02-2025   Clothes  1000.0    For work\n",
      "3  12-02-2025  Shopping  1000.0    For work\n",
      "4  12-02-2025  Shopping  1000.0    For work\n",
      "5   12-2-2025    Tariff   100.0  Toll plaza\n",
      "6   12-2-2025    Tariff   100.0  Toll plaza\n",
      "\n",
      " EXPENSE TRACKER MENU\n",
      "1 Add Expense\n",
      "2️ View Expenses\n",
      "3️ Create Budget\n",
      "4 Track Budget\n",
      "5 Save Expenses\n",
      "6 Exit\n"
     ]
    },
    {
     "name": "stdin",
     "output_type": "stream",
     "text": [
      "Choose an option (1-5):  4\n"
     ]
    },
    {
     "name": "stdout",
     "output_type": "stream",
     "text": [
      "         date  category  amount description\n",
      "0  12-01-2025      Food   112.0  Food for 2\n",
      "1  12-01-2025    travel   100.0  Food for 1\n",
      "2  12-02-2025   Clothes  1000.0    For work\n",
      "3  12-02-2025  Shopping  1000.0    For work\n",
      "4  12-02-2025  Shopping  1000.0    For work\n",
      "5   12-2-2025    Tariff   100.0  Toll plaza\n",
      "6   12-2-2025    Tariff   100.0  Toll plaza\n",
      "Overspent in January: 212.0 exceeds budget 100.0\n",
      "Overspent in February: 3200.0 exceeds budget 1000.0\n",
      "\n",
      " EXPENSE TRACKER MENU\n",
      "1 Add Expense\n",
      "2️ View Expenses\n",
      "3️ Create Budget\n",
      "4 Track Budget\n",
      "5 Save Expenses\n",
      "6 Exit\n"
     ]
    },
    {
     "name": "stdin",
     "output_type": "stream",
     "text": [
      "Choose an option (1-5):  6\n"
     ]
    },
    {
     "name": "stdout",
     "output_type": "stream",
     "text": [
      " Exiting... Goodbye!\n"
     ]
    }
   ],
   "source": [
    "def main():  \n",
    "    load_expenses()\n",
    "while True:\n",
    "        print(\"\\n EXPENSE TRACKER MENU\")\n",
    "        print(\"1 Add Expense\")\n",
    "        print(\"2️ View Expenses\")\n",
    "        print(\"3️ Create Budget\")\n",
    "        print(\"4 Track Budget\")\n",
    "        print(\"5 Save Expenses\")\n",
    "        print(\"6 Exit\")\n",
    "\n",
    "        choice = input(\"Choose an option (1-6): \")\n",
    "\n",
    "        if choice == \"1\":\n",
    "            getdict=add_expense()\n",
    "            addDictoList(getdict)\n",
    "            save_expenses()\n",
    "        elif choice == \"2\":\n",
    "            load_expenses()\n",
    "        elif choice == \"3\":\n",
    "            createmonthly_budget()\n",
    "        elif choice == \"4\":\n",
    "            load_expenses()\n",
    "            calculate_budget()\n",
    "        elif choice == \"5\":\n",
    "            save_expenses()\n",
    "        elif choice == \"6\":\n",
    "            print(\" Exiting... Goodbye!\")\n",
    "            break\n",
    "        else:\n",
    "            print(\" Invalid choice. Please enter a number between 1 and 6.\")"
   ]
  },
  {
   "cell_type": "code",
   "execution_count": null,
   "id": "76812e5e-d858-49fa-91e4-a7ca0ce3f474",
   "metadata": {},
   "outputs": [],
   "source": []
  }
 ],
 "metadata": {
  "kernelspec": {
   "display_name": "Python [conda env:base] *",
   "language": "python",
   "name": "conda-base-py"
  },
  "language_info": {
   "codemirror_mode": {
    "name": "ipython",
    "version": 3
   },
   "file_extension": ".py",
   "mimetype": "text/x-python",
   "name": "python",
   "nbconvert_exporter": "python",
   "pygments_lexer": "ipython3",
   "version": "3.12.7"
  }
 },
 "nbformat": 4,
 "nbformat_minor": 5
}
